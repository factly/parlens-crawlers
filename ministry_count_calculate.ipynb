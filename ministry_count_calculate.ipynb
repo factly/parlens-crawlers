{
 "cells": [
  {
   "cell_type": "code",
   "execution_count": 1,
   "metadata": {},
   "outputs": [],
   "source": [
    "import pymongo\n",
    "import json"
   ]
  },
  {
   "cell_type": "code",
   "execution_count": 2,
   "metadata": {},
   "outputs": [],
   "source": [
    "config_file = open(\"config.json\")\n",
    "config = json.load(config_file)\n",
    "client = pymongo.MongoClient(config[\"mongo_server\"])"
   ]
  },
  {
   "cell_type": "code",
   "execution_count": 3,
   "metadata": {},
   "outputs": [],
   "source": [
    "db = client[config[\"mongo_database\"]]\n",
    "collection = db[config[\"mongo_collection\"][\"current\"]]"
   ]
  },
  {
   "cell_type": "code",
   "execution_count": 11,
   "metadata": {},
   "outputs": [],
   "source": [
    "ministry_count = {}"
   ]
  },
  {
   "cell_type": "code",
   "execution_count": 8,
   "metadata": {},
   "outputs": [],
   "source": [
    "ministries = collection.distinct(\"ministry\")"
   ]
  },
  {
   "cell_type": "code",
   "execution_count": 9,
   "metadata": {},
   "outputs": [
    {
     "name": "stderr",
     "output_type": "stream",
     "text": [
      "c:\\users\\ishsx\\appdata\\local\\programs\\python\\python36\\lib\\site-packages\\ipykernel_launcher.py:2: DeprecationWarning: count is deprecated. Use Collection.count_documents instead.\n",
      "  \n"
     ]
    }
   ],
   "source": [
    "for ministry in ministries:\n",
    "    ministry_count[ministry] = collection.count_documents({\"ministry\":ministry})"
   ]
  },
  {
   "cell_type": "code",
   "execution_count": 6,
   "metadata": {},
   "outputs": [],
   "source": [
    "for document in collection.find():\n",
    "    for ministry in document['ministry']:\n",
    "        if ministry not in ministry_count:\n",
    "            ministry_count[ministry] = 1\n",
    "        else:\n",
    "            ministry_count[ministry]+=1"
   ]
  },
  {
   "cell_type": "code",
   "execution_count": 7,
   "metadata": {},
   "outputs": [],
   "source": [
    "json.dump(ministry_count,open(\"ministry_count_16.json\",\"w\"))"
   ]
  },
  {
   "cell_type": "code",
   "execution_count": 10,
   "metadata": {},
   "outputs": [
    {
     "data": {
      "text/plain": [
       "{'C': 59932,\n",
       " 'I': 106006,\n",
       " 'V': 26182,\n",
       " 'L': 74034,\n",
       " ' ': 147919,\n",
       " 'A': 167575,\n",
       " 'T': 85748,\n",
       " 'O': 88850,\n",
       " 'N': 144056,\n",
       " 'D': 66702,\n",
       " 'R': 120454,\n",
       " 'K': 2035,\n",
       " 'G': 24833,\n",
       " 'W': 24019,\n",
       " 'E': 178366,\n",
       " 'S': 77419,\n",
       " 'P': 35216,\n",
       " 'Y': 26169,\n",
       " 'U': 52909,\n",
       " 'H': 37980,\n",
       " 'F': 51070,\n",
       " 'M': 63164,\n",
       " 'B': 11504,\n",
       " 'J': 4558,\n",
       " 'X': 2604,\n",
       " ',': 10325,\n",
       " 'Z': 1221,\n",
       " '&': 736,\n",
       " '(': 736,\n",
       " ')': 736,\n",
       " 'CIVIL AVIATION': 2283,\n",
       " 'DRINKING WATER AND SANITATION': 1102,\n",
       " 'POWER': 1462,\n",
       " 'YOUTH AFFAIRS AND SPORTS': 972,\n",
       " 'RURAL DEVELOPMENT': 2049,\n",
       " 'NEW AND RENEWABLE ENERGY': 1212,\n",
       " 'ROAD TRANSPORT AND HIGHWAYS': 2111,\n",
       " 'INFORMATION AND BROADCASTING': 895,\n",
       " 'PANCHAYATI RAJ': 430,\n",
       " 'TEXTILES': 1189,\n",
       " 'WATER RESOURCES, RIVER DEVELOPMENT AND GANAGA REJUVENATION': 1677,\n",
       " 'SHIPPING': 763,\n",
       " 'MINES': 450,\n",
       " 'RAILWAYS': 4825,\n",
       " 'ATOMIC ENERGY': 595,\n",
       " 'COAL': 1114,\n",
       " 'DEFENCE': 2264,\n",
       " 'EARTH SCIENCES': 382,\n",
       " 'EXTERNAL AFFAIRS': 1415,\n",
       " 'ELECTRONICS AND INFORMATION TECHNOLOGY': 620,\n",
       " 'MINORITY AFFAIRS': 598,\n",
       " 'COMMUNICATIONS': 833,\n",
       " 'PLANNING': 461,\n",
       " 'LAW AND JUSTICE': 1117,\n",
       " 'SCIENCE AND TECHNOLOGY': 701,\n",
       " 'DEVELOPMENT OF NORTH EASTERN REGION': 195,\n",
       " 'PERSONNEL, PUBLIC GRIEVANCES AND PENSIONS': 880,\n",
       " 'SPACE': 317,\n",
       " 'STATISTICS AND PROGRAMME IMPLEMENTATION': 300,\n",
       " 'AGRICULTURE AND FARMERS WELFARE': 2718,\n",
       " 'HEAVY INDUSTRIES AND PUBLIC ENTERPRISES': 654,\n",
       " 'CONSUMER AFFAIRS, FOOD AND PUBLIC DISTRIBUTION': 1627,\n",
       " 'HOME AFFAIRS': 3669,\n",
       " 'FOOD PROCESSING INDUSTRIES': 397,\n",
       " 'CHEMICALS AND FERTILIZERS': 1221,\n",
       " 'HOUSING AND URBAN AFFAIRS': 653,\n",
       " 'SOCIAL JUSTICE AND EMPOWERMENT': 1334,\n",
       " 'PETROLEUM AND NATURAL GAS': 1285,\n",
       " 'LABOUR AND EMPLOYMENT': 1783,\n",
       " 'TOURISM': 1050,\n",
       " 'HUMAN RESOURCE DEVELOPMENT': 4788,\n",
       " 'TRIBAL AFFAIRS': 764,\n",
       " 'COMMERCE AND INDUSTRY': 2212,\n",
       " 'CULTURE': 991,\n",
       " 'SKILL DEVELOPMENT AND ENTREPRENEURSHIP': 832,\n",
       " 'MICRO,SMALL AND MEDIUM ENTERPRISES': 629,\n",
       " 'STEEL': 434,\n",
       " 'PARLIAMENTARY AFFAIRS': 30,\n",
       " 'FINANCE': 5166,\n",
       " 'HEALTH AND FAMILY WELFARE': 3992,\n",
       " 'ENVIRONMENT,  FORESTS AND CLIMATE CHANGE': 3102,\n",
       " 'AYURVEDA,YOGA & NATUROPATHY,UNANI,SIDDHA AND HOMEOPATHY (AYUSH)': 736,\n",
       " 'WOMEN AND CHILD DEVELOPMENT': 1257,\n",
       " 'CORPORATE AFFAIRS': 552,\n",
       " 'URBAN DEVELOPMENT': 937,\n",
       " 'HOUSING AND URBAN  POVERTY ALLEVIATION': 472,\n",
       " 'PRIME MINISTER': 5,\n",
       " 'COMMUNICATIONS AND INFORMATION TECHNOLOGY': 1181,\n",
       " 'OVERSEAS INDIAN AFFAIRS': 110,\n",
       " 'AGRICULTURE': 1100,\n",
       " 'SKILL DEVELOPMENT, ENTREPRENEURSHIP,YOUTH AFFAIRS AND SPORTS': 101}"
      ]
     },
     "execution_count": 10,
     "metadata": {},
     "output_type": "execute_result"
    }
   ],
   "source": [
    "ministry_count"
   ]
  },
  {
   "cell_type": "code",
   "execution_count": 5,
   "metadata": {},
   "outputs": [
    {
     "data": {
      "text/plain": [
       "['CIVIL AVIATION',\n",
       " 'DRINKING WATER AND SANITATION',\n",
       " 'POWER',\n",
       " 'YOUTH AFFAIRS AND SPORTS',\n",
       " 'RURAL DEVELOPMENT',\n",
       " 'NEW AND RENEWABLE ENERGY',\n",
       " 'ROAD TRANSPORT AND HIGHWAYS',\n",
       " 'INFORMATION AND BROADCASTING',\n",
       " 'PANCHAYATI RAJ',\n",
       " 'TEXTILES',\n",
       " 'WATER RESOURCES, RIVER DEVELOPMENT AND GANAGA REJUVENATION',\n",
       " 'SHIPPING',\n",
       " 'MINES',\n",
       " 'RAILWAYS',\n",
       " 'ATOMIC ENERGY',\n",
       " 'COAL',\n",
       " 'DEFENCE',\n",
       " 'EARTH SCIENCES',\n",
       " 'EXTERNAL AFFAIRS',\n",
       " 'ELECTRONICS AND INFORMATION TECHNOLOGY',\n",
       " 'MINORITY AFFAIRS',\n",
       " 'COMMUNICATIONS',\n",
       " 'PLANNING',\n",
       " 'LAW AND JUSTICE',\n",
       " 'SCIENCE AND TECHNOLOGY',\n",
       " 'DEVELOPMENT OF NORTH EASTERN REGION',\n",
       " 'PERSONNEL, PUBLIC GRIEVANCES AND PENSIONS',\n",
       " 'SPACE',\n",
       " 'STATISTICS AND PROGRAMME IMPLEMENTATION',\n",
       " 'AGRICULTURE AND FARMERS WELFARE',\n",
       " 'HEAVY INDUSTRIES AND PUBLIC ENTERPRISES',\n",
       " 'CONSUMER AFFAIRS, FOOD AND PUBLIC DISTRIBUTION',\n",
       " 'HOME AFFAIRS',\n",
       " 'FOOD PROCESSING INDUSTRIES',\n",
       " 'CHEMICALS AND FERTILIZERS',\n",
       " 'HOUSING AND URBAN AFFAIRS',\n",
       " 'SOCIAL JUSTICE AND EMPOWERMENT',\n",
       " 'PETROLEUM AND NATURAL GAS',\n",
       " 'LABOUR AND EMPLOYMENT',\n",
       " 'TOURISM',\n",
       " 'HUMAN RESOURCE DEVELOPMENT',\n",
       " 'TRIBAL AFFAIRS',\n",
       " 'COMMERCE AND INDUSTRY',\n",
       " 'CULTURE',\n",
       " 'SKILL DEVELOPMENT AND ENTREPRENEURSHIP',\n",
       " 'MICRO,SMALL AND MEDIUM ENTERPRISES',\n",
       " 'STEEL',\n",
       " 'PARLIAMENTARY AFFAIRS',\n",
       " 'FINANCE',\n",
       " 'HEALTH AND FAMILY WELFARE',\n",
       " 'ENVIRONMENT,  FORESTS AND CLIMATE CHANGE',\n",
       " 'AYURVEDA,YOGA & NATUROPATHY,UNANI,SIDDHA AND HOMEOPATHY (AYUSH)',\n",
       " 'WOMEN AND CHILD DEVELOPMENT',\n",
       " 'CORPORATE AFFAIRS',\n",
       " 'URBAN DEVELOPMENT',\n",
       " 'HOUSING AND URBAN  POVERTY ALLEVIATION',\n",
       " 'PRIME MINISTER',\n",
       " 'COMMUNICATIONS AND INFORMATION TECHNOLOGY',\n",
       " 'OVERSEAS INDIAN AFFAIRS',\n",
       " 'AGRICULTURE',\n",
       " 'SKILL DEVELOPMENT, ENTREPRENEURSHIP,YOUTH AFFAIRS AND SPORTS']"
      ]
     },
     "execution_count": 5,
     "metadata": {},
     "output_type": "execute_result"
    }
   ],
   "source": []
  }
 ],
 "metadata": {
  "kernelspec": {
   "display_name": "Python 3",
   "language": "python",
   "name": "python3"
  },
  "language_info": {
   "codemirror_mode": {
    "name": "ipython",
    "version": 3
   },
   "file_extension": ".py",
   "mimetype": "text/x-python",
   "name": "python",
   "nbconvert_exporter": "python",
   "pygments_lexer": "ipython3",
   "version": "3.6.4"
  }
 },
 "nbformat": 4,
 "nbformat_minor": 2
}
