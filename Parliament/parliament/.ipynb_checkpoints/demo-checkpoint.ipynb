{
 "cells": [
  {
   "cell_type": "code",
   "execution_count": 3,
   "metadata": {},
   "outputs": [],
   "source": [
    "import pymongo\n",
    "import json"
   ]
  },
  {
   "cell_type": "code",
   "execution_count": 5,
   "metadata": {},
   "outputs": [],
   "source": [
    "config_file = open(\"config.json\")\n",
    "config = json.load(config_file)"
   ]
  },
  {
   "cell_type": "code",
   "execution_count": 19,
   "metadata": {},
   "outputs": [],
   "source": [
    "client = pymongo.MongoClient(config[\"mongo_server\"])\n",
    "db = client[\"factly_parliament_search\"]\n",
    "# collection = db[\"ls_all_member_urls\"]\n",
    "collection = db[\"test\"]"
   ]
  },
  {
   "cell_type": "code",
   "execution_count": 11,
   "metadata": {},
   "outputs": [],
   "source": [
    "results = collection.find({\n",
    "    'URL': {\n",
    "        '$regex': '.*/http.*'\n",
    "    }\n",
    "})"
   ]
  },
  {
   "cell_type": "code",
   "execution_count": 39,
   "metadata": {},
   "outputs": [],
   "source": [
    "results = collection.find({})"
   ]
  },
  {
   "cell_type": "code",
   "execution_count": 44,
   "metadata": {},
   "outputs": [],
   "source": [
    "for result in results:\n",
    "    result.update({\"$set\":{\"ls_no\":2}})"
   ]
  },
  {
   "cell_type": "code",
   "execution_count": 45,
   "metadata": {},
   "outputs": [
    {
     "data": {
      "text/plain": [
       "{'_id': ObjectId('5c647fc78a2fae33a4f2f35c'),\n",
       " 'lsno': 12,\n",
       " 'link': 'http://164.100.47.194/Loksabha/Questions/QResult15.aspx?qref=76130&lsno=12',\n",
       " 'qref': '76130',\n",
       " 'question_number': '78',\n",
       " 'question_type': 'STARRED',\n",
       " 'english_pdf': '',\n",
       " 'hindi_pdf': '',\n",
       " 'date': '01.06.1998',\n",
       " 'ministry': 'HUMAN RESOURCE DEVELOPMENT',\n",
       " 'members': ['Patil Shri Ramkrishna Baba', 'Mudalagiriyappa Shri C.P.'],\n",
       " 'subject': 'COMPENSATION TO STUDENTS ',\n",
       " 'meta': {'current_page': 1,\n",
       "  'total_pages': 1,\n",
       "  'page_url': 'http://164.100.47.194/Loksabha/Questions/qsearch15.aspx?lsno=12',\n",
       "  'fetched_on': '2019-02-14 02:06:23.518660'},\n",
       " 'text': ':\\r\\n\\r\\n(a)\\twhether Question Papers set up for the Class\\r\\nX and XII examinations conducted by C.B.S.E. in 1998\\r\\nwere out of syllabus and too lengthy;\\r\\n\\r\\n(b)\\tif so, the details thereof and the reasons therefor;\\r\\n\\r\\n(c)\\twhether the Government propose to compensate\\r\\nthe students on this count; and\\r\\n\\r\\n(d)\\tis so, the details thereof and if not, the reasons\\r\\ntherefor?\\r\\n\\r\\n\\r\\n\\r\\r\\n                                                \\n\\n\\n\\n\\n\\nANSWER\\n\\n\\n\\n\\n\\n\\nTHE MINISTER OF HUMAN RESOURCE DEVELOPMENT AND MINISTER OF SCIENCE AND TECHNOLOGY \\n(DR. MURLI MANOHAR JOSHI) \\r\\n\\n(a) and (b) As per information received from the Central Board of Secondary Education (CBSE), the \\r\\nQuestion Papers set in Class X and Class XII examinations field in 1998 were within the scope of the \\r\\nsyllabus and pattern prescribed by the Board.\\r\\n\\n\\n(c) and (d) Do not arise.'}"
      ]
     },
     "execution_count": 45,
     "metadata": {},
     "output_type": "execute_result"
    }
   ],
   "source": [
    "result"
   ]
  },
  {
   "cell_type": "code",
   "execution_count": 41,
   "metadata": {},
   "outputs": [
    {
     "data": {
      "text/plain": [
       "{'current_page': 1,\n",
       " 'total_pages': 1,\n",
       " 'page_url': 'http://164.100.47.194/Loksabha/Questions/qsearch15.aspx?lsno=12',\n",
       " 'fetched_on': '2019-02-14 02:06:23.518660'}"
      ]
     },
     "execution_count": 41,
     "metadata": {},
     "output_type": "execute_result"
    }
   ],
   "source": []
  }
 ],
 "metadata": {
  "kernelspec": {
   "display_name": "Python 3",
   "language": "python",
   "name": "python3"
  },
  "language_info": {
   "codemirror_mode": {
    "name": "ipython",
    "version": 3
   },
   "file_extension": ".py",
   "mimetype": "text/x-python",
   "name": "python",
   "nbconvert_exporter": "python",
   "pygments_lexer": "ipython3",
   "version": "3.6.4"
  }
 },
 "nbformat": 4,
 "nbformat_minor": 2
}
