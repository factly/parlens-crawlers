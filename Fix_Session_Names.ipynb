{
 "cells": [
  {
   "cell_type": "code",
   "execution_count": 3,
   "metadata": {},
   "outputs": [],
   "source": [
    "import pymongo\n",
    "import json\n",
    "from pprint import pprint"
   ]
  },
  {
   "cell_type": "code",
   "execution_count": 4,
   "metadata": {},
   "outputs": [],
   "source": [
    "config_file = open(\"config.cfg\")\n",
    "config = json.load(config_file)\n",
    "client = pymongo.MongoClient(config[\"mongodb_uri\"])\n",
    "db = client[config[\"database\"]]\n",
    "current_members = db[\"current_ls_members\"]"
   ]
  },
  {
   "cell_type": "code",
   "execution_count": 19,
   "metadata": {},
   "outputs": [],
   "source": [
    "for row in current_members.find({}):\n",
    "    new_term = {}\n",
    "    for i,term in enumerate(row[\"terms\"]):\n",
    "        new_term = term\n",
    "        if \"constituency\" in term:\n",
    "            new_term[\"geography\"] = term.pop(\"constituency\")\n",
    "        row[\"terms\"][i] = new_term\n",
    "    current_members.replace_one({\"_id\":row[\"_id\"]},row)"
   ]
  },
  {
   "cell_type": "code",
   "execution_count": 5,
   "metadata": {},
   "outputs": [
    {
     "data": {
      "text/plain": "<pymongo.results.UpdateResult at 0x11981d1e0>"
     },
     "execution_count": 5,
     "metadata": {},
     "output_type": "execute_result"
    }
   ],
   "source": [
    "current_members.update_many({},{\"$set\":{\"terms.$[].house\":1}})"
   ]
  },
  {
   "cell_type": "code",
   "execution_count": 6,
   "metadata": {},
   "outputs": [],
   "source": [
    "for row in current_members.find({}):\n",
    "    new_term = {}\n",
    "    for i,term in enumerate(row[\"terms\"]):\n",
    "        new_term = term\n",
    "        new_term[\"from\"] = ''\n",
    "        new_term[\"to\"] = ''\n",
    "        if new_term[\"session\"] == \"17\":\n",
    "            new_term[\"from\"] = 2019\n",
    "            new_term[\"to\"] = 2024\n",
    "        if new_term[\"session\"] == \"16\":\n",
    "            new_term[\"from\"] = 2014\n",
    "            new_term[\"to\"] = 2019\n",
    "        if new_term[\"session\"] == \"15\":\n",
    "            new_term[\"from\"] = 2009\n",
    "            new_term[\"to\"] = 2014\n",
    "        row[\"terms\"][i] = new_term\n",
    "    current_members.replace_one({\"_id\":row[\"_id\"]},row)"
   ]
  },
  {
   "cell_type": "code",
   "execution_count": 7,
   "metadata": {},
   "outputs": [
    {
     "data": {
      "text/plain": "<pymongo.results.UpdateResult at 0x119fffaf0>"
     },
     "execution_count": 7,
     "metadata": {},
     "output_type": "execute_result"
    }
   ],
   "source": [
    "current_members.update_many({},{\"$set\":{\"terms.$[].house\":1}})"
   ]
  },
  {
   "cell_type": "code",
   "execution_count": null,
   "metadata": {},
   "outputs": [],
   "source": []
  }
 ],
 "metadata": {
  "kernelspec": {
   "display_name": "Python 3",
   "language": "python",
   "name": "python3"
  },
  "language_info": {
   "codemirror_mode": {
    "name": "ipython",
    "version": 3
   },
   "file_extension": ".py",
   "mimetype": "text/x-python",
   "name": "python",
   "nbconvert_exporter": "python",
   "pygments_lexer": "ipython3",
   "version": "3.7.4"
  }
 },
 "nbformat": 4,
 "nbformat_minor": 2
}