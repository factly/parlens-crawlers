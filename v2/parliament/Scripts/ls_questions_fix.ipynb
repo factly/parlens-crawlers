{
 "cells": [
  {
   "cell_type": "code",
   "execution_count": 1,
   "metadata": {},
   "outputs": [],
   "source": [
    "import pymongo\n",
    "import pandas\n",
    "import json\n",
    "import os\n",
    "import pandas as pd"
   ]
  },
  {
   "cell_type": "code",
   "execution_count": 2,
   "metadata": {},
   "outputs": [],
   "source": [
    "config_file = open(\"../config.cfg\")\n",
    "config = json.load(config_file)\n",
    "client = pymongo.MongoClient(config[\"mongodb_uri\"])\n",
    "db = client[config[\"database\"]]"
   ]
  },
  {
   "cell_type": "code",
   "execution_count": 3,
   "metadata": {},
   "outputs": [],
   "source": [
    "col = db['current_ls_members']"
   ]
  },
  {
   "cell_type": "code",
   "execution_count": 24,
   "metadata": {},
   "outputs": [],
   "source": [
    "a = col.find_one({\"_id\":'5175'})"
   ]
  },
  {
   "cell_type": "code",
   "execution_count": 28,
   "metadata": {},
   "outputs": [],
   "source": [
    "b = {}"
   ]
  },
  {
   "cell_type": "code",
   "execution_count": 3,
   "metadata": {},
   "outputs": [],
   "source": [
    "test = db['test']"
   ]
  },
  {
   "cell_type": "code",
   "execution_count": 12,
   "metadata": {},
   "outputs": [],
   "source": [
    "result = test.insert_one({\"_id\":'a',\"b\":'b'})"
   ]
  },
  {
   "cell_type": "code",
   "execution_count": 16,
   "metadata": {},
   "outputs": [
    {
     "data": {
      "text/plain": [
       "'c'"
      ]
     },
     "execution_count": 16,
     "metadata": {},
     "output_type": "execute_result"
    }
   ],
   "source": [
    "result.inserted_id"
   ]
  },
  {
   "cell_type": "code",
   "execution_count": 19,
   "metadata": {},
   "outputs": [],
   "source": [
    "archive_q = db['lok_sabha_archive_questions']"
   ]
  },
  {
   "cell_type": "code",
   "execution_count": 4,
   "metadata": {},
   "outputs": [
    {
     "data": {
      "text/plain": [
       "17232"
      ]
     },
     "execution_count": 4,
     "metadata": {},
     "output_type": "execute_result"
    }
   ],
   "source": [
    "archive_q.count_documents({'lsno':13})"
   ]
  },
  {
   "cell_type": "code",
   "execution_count": 13,
   "metadata": {},
   "outputs": [],
   "source": [
    "f = open(\"../logs/Old Logs/written_20190824043908.log\",\"r\")"
   ]
  },
  {
   "cell_type": "code",
   "execution_count": 14,
   "metadata": {},
   "outputs": [],
   "source": [
    "urls = f.readlines()"
   ]
  },
  {
   "cell_type": "code",
   "execution_count": 20,
   "metadata": {},
   "outputs": [],
   "source": [
    "df = pd.DataFrame(list(archive_q.find({'lsno':13})))"
   ]
  },
  {
   "cell_type": "code",
   "execution_count": 21,
   "metadata": {},
   "outputs": [
    {
     "data": {
      "text/html": [
       "<div>\n",
       "<style scoped>\n",
       "    .dataframe tbody tr th:only-of-type {\n",
       "        vertical-align: middle;\n",
       "    }\n",
       "\n",
       "    .dataframe tbody tr th {\n",
       "        vertical-align: top;\n",
       "    }\n",
       "\n",
       "    .dataframe thead th {\n",
       "        text-align: right;\n",
       "    }\n",
       "</style>\n",
       "<table border=\"1\" class=\"dataframe\">\n",
       "  <thead>\n",
       "    <tr style=\"text-align: right;\">\n",
       "      <th></th>\n",
       "      <th>_id</th>\n",
       "      <th>answer</th>\n",
       "      <th>date</th>\n",
       "      <th>english_pdf</th>\n",
       "      <th>hindi_pdf</th>\n",
       "      <th>link</th>\n",
       "      <th>lsno</th>\n",
       "      <th>members</th>\n",
       "      <th>meta</th>\n",
       "      <th>ministry</th>\n",
       "      <th>qref</th>\n",
       "      <th>question</th>\n",
       "      <th>question_number</th>\n",
       "      <th>question_type</th>\n",
       "      <th>subject</th>\n",
       "      <th>text</th>\n",
       "    </tr>\n",
       "  </thead>\n",
       "  <tbody>\n",
       "    <tr>\n",
       "      <th>0</th>\n",
       "      <td>5d39dd381d720946b05d4281</td>\n",
       "      <td>THE MINISTER OF POWER ( SHRI ANANT GANGARAM GE...</td>\n",
       "      <td>05.02.2004</td>\n",
       "      <td></td>\n",
       "      <td></td>\n",
       "      <td>http://loksabhaph.nic.in/Questions/QResult15.a...</td>\n",
       "      <td>13</td>\n",
       "      <td>[AVSM, BRIG.(RETD.) KAMAKHYA PRASAD  SINGH DEO...</td>\n",
       "      <td>{'current_page': 1, 'total_pages': 7343, 'page...</td>\n",
       "      <td>POWER</td>\n",
       "      <td>70205</td>\n",
       "      <td>(a)\\twhether the Government has undertaken rur...</td>\n",
       "      <td>358</td>\n",
       "      <td>STARRED</td>\n",
       "      <td>RURAL ELECTRIFICATION UNDER PMGY</td>\n",
       "      <td>(a)\\twhether the Government has undertaken rur...</td>\n",
       "    </tr>\n",
       "    <tr>\n",
       "      <th>1</th>\n",
       "      <td>5d39dd3d1d720946b05d4282</td>\n",
       "      <td>MINISTER OF DEFENCE               \\t         (...</td>\n",
       "      <td>05.02.2004</td>\n",
       "      <td></td>\n",
       "      <td></td>\n",
       "      <td>http://loksabhaph.nic.in/Questions/QResult15.a...</td>\n",
       "      <td>13</td>\n",
       "      <td>[GADDE  RAMAMOHAN]</td>\n",
       "      <td>{'current_page': 1, 'total_pages': 7343, 'page...</td>\n",
       "      <td>DEFENCE</td>\n",
       "      <td>70472</td>\n",
       "      <td>(a)\\twhether there has been steep rise in the ...</td>\n",
       "      <td>356</td>\n",
       "      <td>STARRED</td>\n",
       "      <td>AMENDMENT IN ARMY ACT, 1950</td>\n",
       "      <td>(a)\\twhether there has been steep rise in the ...</td>\n",
       "    </tr>\n",
       "    <tr>\n",
       "      <th>2</th>\n",
       "      <td>5d39dd4d1d720946b05d4283</td>\n",
       "      <td>MINISTER OF RAILWAYS ( SHRI NITISH  KUMAR )\\r\\...</td>\n",
       "      <td>05.02.2004</td>\n",
       "      <td></td>\n",
       "      <td></td>\n",
       "      <td>http://loksabhaph.nic.in/Questions/QResult15.a...</td>\n",
       "      <td>13</td>\n",
       "      <td>[TRILOCHAN  KANUNGO]</td>\n",
       "      <td>{'current_page': 2, 'total_pages': 7343, 'page...</td>\n",
       "      <td>RAILWAYS</td>\n",
       "      <td>70184</td>\n",
       "      <td>(a)  whether  Departmental Railway Vikas Nigam...</td>\n",
       "      <td>343</td>\n",
       "      <td>STARRED</td>\n",
       "      <td>DEPARTMENTAL RAILWAY VIKAS NIGAM</td>\n",
       "      <td>(a)  whether  Departmental Railway Vikas Nigam...</td>\n",
       "    </tr>\n",
       "    <tr>\n",
       "      <th>3</th>\n",
       "      <td>5d39dd601d720946b05d4284</td>\n",
       "      <td>MINISTER OF DEFENCE               \\t         (...</td>\n",
       "      <td>05.02.2004</td>\n",
       "      <td></td>\n",
       "      <td></td>\n",
       "      <td>http://loksabhaph.nic.in/Questions/QResult15.a...</td>\n",
       "      <td>13</td>\n",
       "      <td>[SURESH RAMRAO  JADHAV (PATIL)]</td>\n",
       "      <td>{'current_page': 3, 'total_pages': 7343, 'page...</td>\n",
       "      <td>DEFENCE</td>\n",
       "      <td>70376</td>\n",
       "      <td>(a)\\twhether the Indian Army has raised some o...</td>\n",
       "      <td>3393</td>\n",
       "      <td>UNSTARRED</td>\n",
       "      <td>INDUCTION OF DEFENCE EQUIPMENT</td>\n",
       "      <td>(a)\\twhether the Indian Army has raised some o...</td>\n",
       "    </tr>\n",
       "    <tr>\n",
       "      <th>4</th>\n",
       "      <td>5d39dd741d720946b05d4285</td>\n",
       "      <td>THE MINISTER OF STATE IN THE MINISTRY OF POWER...</td>\n",
       "      <td>05.02.2004</td>\n",
       "      <td></td>\n",
       "      <td></td>\n",
       "      <td>http://loksabhaph.nic.in/Questions/QResult15.a...</td>\n",
       "      <td>13</td>\n",
       "      <td>[KAMAL NATH, NARESH KUMAR  PUGLIA, SHYAMA  SINGH]</td>\n",
       "      <td>{'current_page': 4, 'total_pages': 7343, 'page...</td>\n",
       "      <td>POWER</td>\n",
       "      <td>70375</td>\n",
       "      <td>(a)\\twhether the Government is aware of the po...</td>\n",
       "      <td>3389</td>\n",
       "      <td>UNSTARRED</td>\n",
       "      <td>FINANCIAL HEALTH OF SEBs</td>\n",
       "      <td>(a)\\twhether the Government is aware of the po...</td>\n",
       "    </tr>\n",
       "  </tbody>\n",
       "</table>\n",
       "</div>"
      ],
      "text/plain": [
       "                        _id  \\\n",
       "0  5d39dd381d720946b05d4281   \n",
       "1  5d39dd3d1d720946b05d4282   \n",
       "2  5d39dd4d1d720946b05d4283   \n",
       "3  5d39dd601d720946b05d4284   \n",
       "4  5d39dd741d720946b05d4285   \n",
       "\n",
       "                                              answer        date english_pdf  \\\n",
       "0  THE MINISTER OF POWER ( SHRI ANANT GANGARAM GE...  05.02.2004               \n",
       "1  MINISTER OF DEFENCE               \\t         (...  05.02.2004               \n",
       "2  MINISTER OF RAILWAYS ( SHRI NITISH  KUMAR )\\r\\...  05.02.2004               \n",
       "3  MINISTER OF DEFENCE               \\t         (...  05.02.2004               \n",
       "4  THE MINISTER OF STATE IN THE MINISTRY OF POWER...  05.02.2004               \n",
       "\n",
       "  hindi_pdf                                               link  lsno  \\\n",
       "0            http://loksabhaph.nic.in/Questions/QResult15.a...    13   \n",
       "1            http://loksabhaph.nic.in/Questions/QResult15.a...    13   \n",
       "2            http://loksabhaph.nic.in/Questions/QResult15.a...    13   \n",
       "3            http://loksabhaph.nic.in/Questions/QResult15.a...    13   \n",
       "4            http://loksabhaph.nic.in/Questions/QResult15.a...    13   \n",
       "\n",
       "                                             members  \\\n",
       "0  [AVSM, BRIG.(RETD.) KAMAKHYA PRASAD  SINGH DEO...   \n",
       "1                                 [GADDE  RAMAMOHAN]   \n",
       "2                               [TRILOCHAN  KANUNGO]   \n",
       "3                    [SURESH RAMRAO  JADHAV (PATIL)]   \n",
       "4  [KAMAL NATH, NARESH KUMAR  PUGLIA, SHYAMA  SINGH]   \n",
       "\n",
       "                                                meta  ministry   qref  \\\n",
       "0  {'current_page': 1, 'total_pages': 7343, 'page...     POWER  70205   \n",
       "1  {'current_page': 1, 'total_pages': 7343, 'page...   DEFENCE  70472   \n",
       "2  {'current_page': 2, 'total_pages': 7343, 'page...  RAILWAYS  70184   \n",
       "3  {'current_page': 3, 'total_pages': 7343, 'page...   DEFENCE  70376   \n",
       "4  {'current_page': 4, 'total_pages': 7343, 'page...     POWER  70375   \n",
       "\n",
       "                                            question question_number  \\\n",
       "0  (a)\\twhether the Government has undertaken rur...             358   \n",
       "1  (a)\\twhether there has been steep rise in the ...             356   \n",
       "2  (a)  whether  Departmental Railway Vikas Nigam...             343   \n",
       "3  (a)\\twhether the Indian Army has raised some o...            3393   \n",
       "4  (a)\\twhether the Government is aware of the po...            3389   \n",
       "\n",
       "  question_type                           subject  \\\n",
       "0       STARRED  RURAL ELECTRIFICATION UNDER PMGY   \n",
       "1       STARRED       AMENDMENT IN ARMY ACT, 1950   \n",
       "2       STARRED  DEPARTMENTAL RAILWAY VIKAS NIGAM   \n",
       "3     UNSTARRED    INDUCTION OF DEFENCE EQUIPMENT   \n",
       "4     UNSTARRED          FINANCIAL HEALTH OF SEBs   \n",
       "\n",
       "                                                text  \n",
       "0  (a)\\twhether the Government has undertaken rur...  \n",
       "1  (a)\\twhether there has been steep rise in the ...  \n",
       "2  (a)  whether  Departmental Railway Vikas Nigam...  \n",
       "3  (a)\\twhether the Indian Army has raised some o...  \n",
       "4  (a)\\twhether the Government is aware of the po...  "
      ]
     },
     "execution_count": 21,
     "metadata": {},
     "output_type": "execute_result"
    }
   ],
   "source": [
    "df.head()"
   ]
  },
  {
   "cell_type": "code",
   "execution_count": 6,
   "metadata": {},
   "outputs": [
    {
     "data": {
      "text/plain": [
       "['detected_20190823025459.log',\n",
       " 'detected_20190823174838.log',\n",
       " 'detected_20190823200804.log',\n",
       " 'detected_20190824024832.log',\n",
       " 'detected_20190824041628.log',\n",
       " 'detected_20190824042502.log',\n",
       " 'detected_20190824043908.log',\n",
       " 'errors_20190823025459.log',\n",
       " 'errors_20190823174838.log',\n",
       " 'errors_20190823200804.log',\n",
       " 'errors_20190824024832.log',\n",
       " 'errors_20190824041628.log',\n",
       " 'errors_20190824042502.log',\n",
       " 'errors_20190824043908.log',\n",
       " 'skipped_20190823025459.log',\n",
       " 'skipped_20190823174838.log',\n",
       " 'skipped_20190823200804.log',\n",
       " 'skipped_20190824024832.log',\n",
       " 'skipped_20190824041628.log',\n",
       " 'skipped_20190824042502.log',\n",
       " 'skipped_20190824043908.log',\n",
       " 'written_20190823025459.log',\n",
       " 'written_20190823174838.log',\n",
       " 'written_20190823200804.log',\n",
       " 'written_20190824024832.log',\n",
       " 'written_20190824041628.log',\n",
       " 'written_20190824042502.log',\n",
       " 'written_20190824043908.log']"
      ]
     },
     "execution_count": 6,
     "metadata": {},
     "output_type": "execute_result"
    }
   ],
   "source": [
    "list_of_written = []\n",
    "for f in os.listdir(\"../logs/Old Logs/\"):\n",
    "    if "
   ]
  }
 ],
 "metadata": {
  "kernelspec": {
   "display_name": "Python 3",
   "language": "python",
   "name": "python3"
  },
  "language_info": {
   "codemirror_mode": {
    "name": "ipython",
    "version": 3
   },
   "file_extension": ".py",
   "mimetype": "text/x-python",
   "name": "python",
   "nbconvert_exporter": "python",
   "pygments_lexer": "ipython3",
   "version": "3.6.7"
  }
 },
 "nbformat": 4,
 "nbformat_minor": 2
}
