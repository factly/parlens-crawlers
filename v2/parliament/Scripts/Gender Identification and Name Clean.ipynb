{
 "cells": [
  {
   "cell_type": "code",
   "execution_count": 1,
   "metadata": {},
   "outputs": [],
   "source": [
    "import json\n",
    "import pymongo\n",
    "import pandas as pd\n",
    "from collections import defaultdict"
   ]
  },
  {
   "cell_type": "code",
   "execution_count": 2,
   "metadata": {},
   "outputs": [],
   "source": [
    "def name_clean(member_name):\n",
    "    member_name = member_name.strip()\n",
    "    if 'Sh.' in member_name:\n",
    "        member_list = member_name.split('Sh.')\n",
    "        name = 'Sh.'+\" \"+member_list[-1]+\" \"+' '.join(member_list[:-1])\n",
    "    elif 'Smt.' in member_name:\n",
    "        member_list = member_name.split('Smt.')\n",
    "        name = 'Smt.'+\" \"+member_list[-1]+\" \"+' '.join(member_list[:-1])\n",
    "    elif ',' in member_name:\n",
    "        name_list = member_name.split(',')\n",
    "        if len(name_list) >= 2:\n",
    "            name = name_list[1].strip()+\" \"+name_list[0].strip()\n",
    "            name = name.replace(\"  \",\" \").replace('\\xa0','')\n",
    "    else:\n",
    "        name = member_name\n",
    "    return name\n",
    "\n",
    "def get_gender(name):\n",
    "    title = name.split(\" \")[0]\n",
    "    female_titles = [\n",
    "        'Begam',\n",
    "        'Begum',\n",
    "        'Devi',\n",
    "        'Dr.(Kum.)',\n",
    "        'Dr.(Smt.)',\n",
    "        'Dr.(Smt.)Chellamalla',\n",
    "        'Her',\n",
    "        'Km.',\n",
    "        'Kum.',\n",
    "        'Kumari',\n",
    "        'Maharani',\n",
    "        'Ms.',\n",
    "        'Prof.(Smt.)',\n",
    "        'Rajkumari',\n",
    "        'Rajmata',\n",
    "        'Rajmata(Jodhpur)',\n",
    "        'Rani',\n",
    "        'Sadhvi',\n",
    "        'Sardarni',\n",
    "        'Smt',\n",
    "        'Smt.',\n",
    "        'Sushree'\n",
    "    ]\n",
    "    male_titles = [\n",
    "        '(Pandit)',\n",
    "        'Acharya',\n",
    "        'Adv.',\n",
    "        'Advocate',\n",
    "        'Baba',\n",
    "        'Babu',\n",
    "        'Capt.',\n",
    "        'Capt.(Retd.)',\n",
    "        'Captain',\n",
    "        'Ch.',\n",
    "        'Chaudhari',\n",
    "        'Chaudhary',\n",
    "        'Chaudhri',\n",
    "        'Chaudhry',\n",
    "        'Choudari',\n",
    "        'Choudhary',\n",
    "        'Choudhury',\n",
    "        'Chowdhary',\n",
    "        'Chowdhry',\n",
    "        'Chowdhury',\n",
    "        'Col.',\n",
    "        'Dr.Maharaja',\n",
    "        'Father',\n",
    "        'General',\n",
    "        'H.H.',\n",
    "        'H.H.Maharaja',\n",
    "        'Haji',\n",
    "        'Kazi',\n",
    "        'Kh.',\n",
    "        'Kunwar',\n",
    "        'Lala',\n",
    "        'Lt.',\n",
    "        'Lt.Col.',\n",
    "        'Mahant',\n",
    "        'Maharajkumar',\n",
    "        'Maj',\n",
    "        'Maj.',\n",
    "        'Maj.Gen.',\n",
    "        'Major',\n",
    "        'Major-General',\n",
    "        'Maulana',\n",
    "        'Mohammad',\n",
    "        'Mohd.',\n",
    "        'Motilal',\n",
    "        'Mulla',\n",
    "        'Pandit',\n",
    "        'Purohit',\n",
    "        'Qazi',\n",
    "        'Raja',\n",
    "        'Rt.',\n",
    "        'Sardar',\n",
    "        'Seth',\n",
    "        'Shaikh',\n",
    "        'Shri',\n",
    "        'Shriman',\n",
    "        'Swami',\n",
    "        'Syed',\n",
    "        'Thakur',\n",
    "        'Thiru',\n",
    "        'Vaidya',\n",
    "        'Visharad'\n",
    "    ]\n",
    "    if title in female_titles:\n",
    "        return \"Female\"\n",
    "    elif title in male_titles:\n",
    "        return \"Male\"\n",
    "    else:\n",
    "        return \"Not Available\""
   ]
  },
  {
   "cell_type": "code",
   "execution_count": 4,
   "metadata": {},
   "outputs": [],
   "source": [
    "config_file = open(\"../config.cfg\")\n",
    "config = json.load(config_file)\n",
    "client = pymongo.MongoClient(config[\"mongodb_uri\"])\n",
    "db = client[config[\"database\"]]\n",
    "client2 = pymongo.MongoClient(config[\"mongodb_uri2\"])\n",
    "db2 = client2[config[\"database\"]]"
   ]
  },
  {
   "cell_type": "code",
   "execution_count": 5,
   "metadata": {},
   "outputs": [],
   "source": [
    "old_members_original = db2[\"ls_all_member_urls\"]\n",
    "old_members_copy = db[\"archive_ls_members\"]"
   ]
  },
  {
   "cell_type": "code",
   "execution_count": 6,
   "metadata": {},
   "outputs": [],
   "source": [
    "data = []\n",
    "for row in old_members_original.find({}):\n",
    "    data.append(row)"
   ]
  },
  {
   "cell_type": "code",
   "execution_count": 60,
   "metadata": {},
   "outputs": [],
   "source": [
    "df = pd.DataFrame(columns=[\"_id\",\"name\",\"gender\",\n",
    "                            \"party\",\"constituency\",\"state\",\n",
    "                            \"session\",\"dob\",\"birth_place\",\n",
    "                            \"marital_status\",\"sons\",\"daughters\",\n",
    "                            \"education\",\"profession\"])"
   ]
  },
  {
   "cell_type": "code",
   "execution_count": 54,
   "metadata": {},
   "outputs": [],
   "source": [
    "rename_cols = {\n",
    "    \"ID\" : \"_id\",\n",
    "    \"Name\" : \"name\",\n",
    "    \"Gender\" : \"gender\",\n",
    "    \"Party\" : \"party\",\n",
    "    \"Constituency\" : \"constituency\",\n",
    "    \"State\" : \"state\",\n",
    "    \"Sessions\" : \"session\",\n",
    "    \"sessions\" : \"session\",\n",
    "    \"DOB\" : \"dob\",\n",
    "    \"Birth_place\" : \"birth_place\",\n",
    "    \"Birth_Place\" : \"birth_place\",\n",
    "    \"Marital_status\" : \"marital_status\",\n",
    "    \"Marital_Status\" : \"marital_status\",\n",
    "    \"Sons\" : \"sons\",\n",
    "    \"Daughters\" : \"daughters\",\n",
    "    \"Education\" : \"education\",\n",
    "    \"Profession\" : \"profession\",\n",
    "    \"URL\" : \"url\"\n",
    "}"
   ]
  },
  {
   "cell_type": "code",
   "execution_count": 61,
   "metadata": {},
   "outputs": [],
   "source": [
    "for row in data:\n",
    "    this_row = {}\n",
    "    this_row = defaultdict(lambda: \"Not Available\" , this_row)\n",
    "    keys = list(row.keys())\n",
    "    for key in keys:\n",
    "        if key == '_id':\n",
    "            continue\n",
    "        elif key == 'Name':\n",
    "            this_row[rename_cols[key]] = name_clean(row[key])\n",
    "            this_row[\"gender\"] = get_gender(name_clean(row[key]))\n",
    "        elif key == 'Details' and 'Education' not in keys:\n",
    "            this_row[\"education\"] = row[\"Details\"]\n",
    "        elif key == 'Education':\n",
    "            if \"Details\" not in keys:\n",
    "                this_row[\"education\"] = row[\"Education\"]\n",
    "            else:\n",
    "                this_row[\"education\"] = row[\"Education\"] + \" \" + row[\"Details\"]\n",
    "        elif key != 'Details':\n",
    "            this_row[rename_cols[key]] = row[key]\n",
    "    df = df.append(dict(this_row), ignore_index=True)"
   ]
  },
  {
   "cell_type": "code",
   "execution_count": 62,
   "metadata": {},
   "outputs": [],
   "source": [
    "df = df.fillna(\"Not Available\")"
   ]
  },
  {
   "cell_type": "code",
   "execution_count": 65,
   "metadata": {},
   "outputs": [],
   "source": [
    "records = json.loads(df.T.to_json()).values()"
   ]
  },
  {
   "cell_type": "code",
   "execution_count": 66,
   "metadata": {},
   "outputs": [
    {
     "data": {
      "text/plain": [
       "<pymongo.results.InsertManyResult at 0x26aba76ce88>"
      ]
     },
     "execution_count": 66,
     "metadata": {},
     "output_type": "execute_result"
    }
   ],
   "source": [
    "# old_members_copy.insert_many(records)"
   ]
  }
 ],
 "metadata": {
  "kernelspec": {
   "display_name": "Python 3",
   "language": "python",
   "name": "python3"
  },
  "language_info": {
   "codemirror_mode": {
    "name": "ipython",
    "version": 3
   },
   "file_extension": ".py",
   "mimetype": "text/x-python",
   "name": "python",
   "nbconvert_exporter": "python",
   "pygments_lexer": "ipython3",
   "version": "3.6.7"
  }
 },
 "nbformat": 4,
 "nbformat_minor": 2
}
