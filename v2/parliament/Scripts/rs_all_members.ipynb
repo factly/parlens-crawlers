{
 "cells": [
  {
   "cell_type": "code",
   "execution_count": 30,
   "metadata": {},
   "outputs": [],
   "source": [
    "import pandas as pd\n",
    "import json\n",
    "from word2number import w2n\n",
    "import pymongo\n",
    "import numpy as np"
   ]
  },
  {
   "cell_type": "code",
   "execution_count": 13,
   "metadata": {},
   "outputs": [],
   "source": [
    "config_file = open(\"../config.cfg\")\n",
    "config = json.load(config_file)\n",
    "client = pymongo.MongoClient(config[\"mongodb_uri\"])\n",
    "db = client[config[\"database\"]]\n",
    "collection = db[\"rs_all_members\"]"
   ]
  },
  {
   "cell_type": "code",
   "execution_count": 49,
   "metadata": {},
   "outputs": [],
   "source": [
    "data = pd.read_excel(\"Dat_file.xlsx\")"
   ]
  },
  {
   "cell_type": "code",
   "execution_count": 70,
   "metadata": {},
   "outputs": [],
   "source": [
    "final_data = []"
   ]
  },
  {
   "cell_type": "code",
   "execution_count": 10,
   "metadata": {},
   "outputs": [
    {
     "data": {
      "text/plain": [
       "Index(['Member Name', 'Gender', 'Email ID', 'Delhi Address',\n",
       "       'Permanent Address', 'Whether Minister', 'Term Details',\n",
       "       'Number of Terms', 'State Name', 'Party Name', 'Father Name',\n",
       "       'Mother Name', 'Date of Birth', 'Place of Birth', 'Marital Status',\n",
       "       'Date of Marriage', 'Spouse Name', 'No. of Sons', 'No. of Daughters',\n",
       "       'Freedom Fighter', 'Educational Qualification(s)',\n",
       "       'Other Profession(s)', 'Previous Membership', 'Position(s) Held',\n",
       "       'Book(s) Published', 'Activity(s)', 'Hobbies', 'Country(s) Visited',\n",
       "       'Essential Information'],\n",
       "      dtype='object')"
      ]
     },
     "execution_count": 10,
     "metadata": {},
     "output_type": "execute_result"
    }
   ],
   "source": [
    "data.columns"
   ]
  },
  {
   "cell_type": "code",
   "execution_count": 50,
   "metadata": {},
   "outputs": [
    {
     "data": {
      "text/plain": [
       "Member Name                     False\n",
       "Gender                          False\n",
       "Email ID                         True\n",
       "Delhi Address                    True\n",
       "Permanent Address                True\n",
       "Whether Minister                False\n",
       "Term Details                     True\n",
       "Number of Terms                 False\n",
       "State Name                      False\n",
       "Party Name                      False\n",
       "Father Name                      True\n",
       "Mother Name                      True\n",
       "Date of Birth                    True\n",
       "Place of Birth                   True\n",
       "Marital Status                   True\n",
       "Date of Marriage                 True\n",
       "Spouse Name                      True\n",
       "No. of Sons                      True\n",
       "No. of Daughters                 True\n",
       "Freedom Fighter                 False\n",
       "Educational Qualification(s)     True\n",
       "Other Profession(s)              True\n",
       "Previous Membership              True\n",
       "Position(s) Held                 True\n",
       "Book(s) Published                True\n",
       "Activity(s)                      True\n",
       "Hobbies                          True\n",
       "Country(s) Visited               True\n",
       "Essential Information            True\n",
       "dtype: bool"
      ]
     },
     "execution_count": 50,
     "metadata": {},
     "output_type": "execute_result"
    }
   ],
   "source": [
    "data.isnull().any()"
   ]
  },
  {
   "cell_type": "code",
   "execution_count": 51,
   "metadata": {},
   "outputs": [],
   "source": [
    "data = data.fillna(\"Not Available\")"
   ]
  },
  {
   "cell_type": "code",
   "execution_count": 76,
   "metadata": {},
   "outputs": [],
   "source": [
    "for i,row in data.iterrows():\n",
    "    new_row = {}\n",
    "    new_row[\"_id\"] = str(1000+i)\n",
    "    new_row[\"name\"] = row[\"Member Name\"]\n",
    "    new_row[\"constituency\"] = \"Not Applicable\"\n",
    "    new_row[\"state\"] = row[\"State Name\"]\n",
    "    new_row[\"party\"] = row[\"Party Name\"]\n",
    "    new_row[\"email\"] = row[\"Email ID\"].split(\";\")\n",
    "    new_row[\"dob\"] = row[\"Date of Birth\"]\n",
    "    new_row[\"birth_place\"] = row[\"Place of Birth\"]\n",
    "    new_row[\"marital_status\"] = row[\"Marital Status\"]\n",
    "    if row [\"Term Details\"] == \"Not Available\":\n",
    "        new_row[\"sessions\"] = []\n",
    "    else:\n",
    "        sessions = [_.strip() for _ in row[\"Term Details\"].strip(\",\").split(\",\")]\n",
    "        sessions_data = []\n",
    "        for session in sessions:\n",
    "            sessions_data.append(\n",
    "                {\n",
    "                    \"start_date\" : session.split(\"-\")[0].strip(),\n",
    "                    \"end_date\" : session.split(\"-\")[1].strip()\n",
    "                })\n",
    "            \n",
    "        new_row[\"sessions\"] = sessions_data\n",
    "    if row[\"No. of Sons\"] == \"Not Available\":\n",
    "        new_row[\"sons\"] = 0\n",
    "    elif type(row[\"No. of Sons\"]) == int:\n",
    "        new_row[\"sons\"] = row[\"No. of Sons\"]\n",
    "    else:\n",
    "        new_row[\"sons\"] = w2n.word_to_num(row[\"No. of Sons\"])\n",
    "    if row[\"No. of Daughters\"] == \"Not Available\":\n",
    "        new_row[\"daughters\"] = 0\n",
    "    elif type(row[\"No. of Daughters\"]) == int:\n",
    "        new_row[\"daughters\"] = row[\"No. of Daughters\"]\n",
    "    else:\n",
    "        new_row[\"daughters\"] = w2n.word_to_num(row[\"No. of Daughters\"])\n",
    "    new_row[\"education\"] = row[\"Educational Qualification(s)\"]\n",
    "    new_row[\"profession\"] = row[\"Other Profession(s)\"]\n",
    "    final_data.append(new_row)"
   ]
  },
  {
   "cell_type": "code",
   "execution_count": 79,
   "metadata": {},
   "outputs": [
    {
     "data": {
      "text/plain": [
       "<pymongo.results.InsertManyResult at 0x1f5b3d4b1c8>"
      ]
     },
     "execution_count": 79,
     "metadata": {},
     "output_type": "execute_result"
    }
   ],
   "source": [
    "collection.insert_many(final_data)"
   ]
  }
 ],
 "metadata": {
  "kernelspec": {
   "display_name": "Python 3",
   "language": "python",
   "name": "python3"
  },
  "language_info": {
   "codemirror_mode": {
    "name": "ipython",
    "version": 3
   },
   "file_extension": ".py",
   "mimetype": "text/x-python",
   "name": "python",
   "nbconvert_exporter": "python",
   "pygments_lexer": "ipython3",
   "version": "3.6.7"
  }
 },
 "nbformat": 4,
 "nbformat_minor": 2
}
