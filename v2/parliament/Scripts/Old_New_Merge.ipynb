{
 "cells": [
  {
   "cell_type": "code",
   "execution_count": 3,
   "metadata": {},
   "outputs": [],
   "source": [
    "import pymongo\n",
    "import json"
   ]
  },
  {
   "cell_type": "code",
   "execution_count": 6,
   "metadata": {},
   "outputs": [],
   "source": [
    "config_file = open(\"../config.cfg\")\n",
    "config = json.load(config_file)\n",
    "client = pymongo.MongoClient(config[\"mongodb_uri\"])\n",
    "db = client[config[\"database\"]]\n",
    "current_members = db[\"current_ls_members\"]\n",
    "archive_members = db[\"archive_ls_members\"]"
   ]
  },
  {
   "cell_type": "code",
   "execution_count": 36,
   "metadata": {},
   "outputs": [],
   "source": [
    "count = 0\n",
    "for row in current_members.find({}):\n",
    "    if archive_members.count_documents({\"_id\":row[\"_id\"]}) > 0:\n",
    "        continue\n",
    "        count = count+1\n",
    "        old_row = archive_members.find_one({\"_id\":row[\"_id\"]})\n",
    "        current_sessions = []\n",
    "        for session in old_row[\"session\"]:\n",
    "            current_sessions.append({\"session\" : session,\n",
    "                                    \"party\" : \"NA\",\n",
    "                                    \"constituency\" : \"NA\"\n",
    "                                   })\n",
    "        current_sessions.append({\"session\" : \"17\",\n",
    "                                \"party\" : row[\"party\"],\n",
    "                                \"constituency\" : row[\"constituency\"],\n",
    "                                \"state\" : row[\"state\"]\n",
    "                               })\n",
    "        row[\"session\"] = current_sessions\n",
    "        current_members.update_one({\"_id\":row[\"_id\"]},{\"$set\":{\"session\":current_sessions}})\n",
    "    else:\n",
    "        current_sessions = []\n",
    "        current_sessions.append({\"session\" : \"17\",\n",
    "                                \"party\" : row[\"party\"],\n",
    "                                \"constituency\" : row[\"constituency\"],\n",
    "                                \"state\" : row[\"state\"]\n",
    "                               })\n",
    "        current_members.update_one({\"_id\":row[\"_id\"]},{\"$set\":{\"session\":current_sessions}})"
   ]
  },
  {
   "cell_type": "code",
   "execution_count": null,
   "metadata": {},
   "outputs": [],
   "source": []
  }
 ],
 "metadata": {
  "kernelspec": {
   "display_name": "Python 3",
   "language": "python",
   "name": "python3"
  },
  "language_info": {
   "codemirror_mode": {
    "name": "ipython",
    "version": 3
   },
   "file_extension": ".py",
   "mimetype": "text/x-python",
   "name": "python",
   "nbconvert_exporter": "python",
   "pygments_lexer": "ipython3",
   "version": "3.6.7"
  }
 },
 "nbformat": 4,
 "nbformat_minor": 2
}
