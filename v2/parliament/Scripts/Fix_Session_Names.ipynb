{
 "cells": [
  {
   "cell_type": "code",
   "execution_count": 13,
   "metadata": {},
   "outputs": [],
   "source": [
    "import pymongo\n",
    "import json\n",
    "from pprint import pprint"
   ]
  },
  {
   "cell_type": "code",
   "execution_count": 5,
   "metadata": {},
   "outputs": [],
   "source": [
    "config_file = open(\"../config.cfg\")\n",
    "config = json.load(config_file)\n",
    "client = pymongo.MongoClient(config[\"mongodb_uri\"])\n",
    "db = client[config[\"database\"]]\n",
    "current_members = db[\"current_ls_members\"]"
   ]
  },
  {
   "cell_type": "code",
   "execution_count": 8,
   "metadata": {},
   "outputs": [
    {
     "data": {
      "text/plain": [
       "<pymongo.results.UpdateResult at 0x24e66c72688>"
      ]
     },
     "execution_count": 8,
     "metadata": {},
     "output_type": "execute_result"
    }
   ],
   "source": [
    "current_members.update_many({},{\"$rename\":{\"constituency_id\":\"constituency\",\"party_id\":\"party\"}})"
   ]
  },
  {
   "cell_type": "code",
   "execution_count": 17,
   "metadata": {},
   "outputs": [],
   "source": [
    "for row in current_members.find({}):\n",
    "    new_term = {}\n",
    "    for i,term in enumerate(row[\"terms\"]):\n",
    "        new_term = term\n",
    "        if \"party_id\" in term and \"constituency_id\" in term:\n",
    "            new_term[\"party\"] = term.pop(\"party_id\")\n",
    "            new_term[\"constituency\"] = term.pop(\"constituency_id\")\n",
    "        row[\"terms\"][i] = new_term\n",
    "    current_members.replace_one({\"_id\":row[\"_id\"]},row) "
   ]
  },
  {
   "cell_type": "code",
   "execution_count": 18,
   "metadata": {},
   "outputs": [
    {
     "data": {
      "text/plain": [
       "<pymongo.results.UpdateResult at 0x24e6998d588>"
      ]
     },
     "execution_count": 18,
     "metadata": {},
     "output_type": "execute_result"
    }
   ],
   "source": [
    "current_members.update_many({},{\"$set\":{\"terms.$[].house\":\"Lok Sabha\"}})"
   ]
  }
 ],
 "metadata": {
  "kernelspec": {
   "display_name": "Python 3",
   "language": "python",
   "name": "python3"
  },
  "language_info": {
   "codemirror_mode": {
    "name": "ipython",
    "version": 3
   },
   "file_extension": ".py",
   "mimetype": "text/x-python",
   "name": "python",
   "nbconvert_exporter": "python",
   "pygments_lexer": "ipython3",
   "version": "3.6.7"
  }
 },
 "nbformat": 4,
 "nbformat_minor": 2
}
