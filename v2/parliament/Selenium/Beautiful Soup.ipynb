{
 "cells": [
  {
   "cell_type": "code",
   "execution_count": 1,
   "metadata": {},
   "outputs": [],
   "source": [
    "from bs4 import BeautifulSoup"
   ]
  },
  {
   "cell_type": "code",
   "execution_count": 4,
   "metadata": {},
   "outputs": [],
   "source": [
    "html_doc = open(\"Members Page.html\",\"r\").read()"
   ]
  },
  {
   "cell_type": "code",
   "execution_count": 6,
   "metadata": {},
   "outputs": [],
   "source": [
    "soup = BeautifulSoup(html_doc,'html.parser')"
   ]
  },
  {
   "cell_type": "code",
   "execution_count": 47,
   "metadata": {},
   "outputs": [
    {
     "data": {
      "text/plain": [
       "<tr>\n",
       "<td style=\"font-weight:bold;\">E-mail me at:</td><td style=\"font-weight:normal;\">\n",
       "<img alt=\"\" id=\"ctl00_ContentPlaceHolder1_TabContainer1_TabPanel1_DetailsView1_Image21\" src=\"./Members Page_files/Handler.ashx\" style=\"border-width:0px;\"/>\n",
       "</td>\n",
       "</tr>"
      ]
     },
     "execution_count": 47,
     "metadata": {},
     "output_type": "execute_result"
    }
   ],
   "source": [
    "member_details = {\n",
    "    \"name\":' '.join(soup.find(id='ctl00_ContentPlaceHolder1_GridView1_ctl02_Label3').text.split())\n",
    "    \"state\":soup.find_all('tbody')[1].find_all(\"tr\")[0].find_all(\"td\")[-1].text.strip(),\n",
    "    \"party\":soup.find_all('tbody')[1].find_all(\"tr\")[1].find_all(\"td\")[-1].text.strip(),\n",
    "    \"delhi_address\":soup.find_all('tbody')[1].find_all(\"tr\")[2].find_all(\"td\")[-1].text.strip(),\n",
    "    \"delhi_phone\":soup.find_all('tbody')[1].find_all(\"tr\")[3].find_all(\"td\")[-1].text.strip(),\n",
    "    \"permanent_address\":soup.find_all('tbody')[1].find_all(\"tr\")[4].find_all(\"td\")[-1].text.strip(),\n",
    "    \"permanent_phone\":soup.find_all('tbody')[1].find_all(\"tr\")[5].find_all(\"td\")[-1].text.strip()\n",
    "}"
   ]
  },
  {
   "cell_type": "code",
   "execution_count": 63,
   "metadata": {},
   "outputs": [
    {
     "data": {
      "text/plain": [
       "<tr>\n",
       "<td style=\"font-weight:bold;\">E-mail me at:</td><td style=\"font-weight:normal;\">\n",
       "<img alt=\"\" id=\"ctl00_ContentPlaceHolder1_TabContainer1_TabPanel1_DetailsView1_Image21\" src=\"./Members Page_files/Handler.ashx\" style=\"border-width:0px;\"/>\n",
       "</td>\n",
       "</tr>"
      ]
     },
     "execution_count": 63,
     "metadata": {},
     "output_type": "execute_result"
    }
   ],
   "source": [
    "soup.find_all('tbody')[1].find_all(\"tr\")[6]"
   ]
  },
  {
   "cell_type": "code",
   "execution_count": 79,
   "metadata": {},
   "outputs": [
    {
     "data": {
      "text/plain": [
       "'Shri Abdul Wahab'"
      ]
     },
     "execution_count": 79,
     "metadata": {},
     "output_type": "execute_result"
    }
   ],
   "source": [
    "' '.join(soup.find(id='ctl00_ContentPlaceHolder1_GridView1_ctl02_Label3').text.split())"
   ]
  },
  {
   "cell_type": "code",
   "execution_count": 159,
   "metadata": {},
   "outputs": [],
   "source": [
    "bio_row = soup.find(id=\"ctl00_ContentPlaceHolder1_TabContainer1_TabPanel2_DetailsView2\").find_all(\"tr\")[9]"
   ]
  },
  {
   "cell_type": "code",
   "execution_count": 160,
   "metadata": {},
   "outputs": [
    {
     "data": {
      "text/plain": [
       "'Permanent Address:'"
      ]
     },
     "execution_count": 160,
     "metadata": {},
     "output_type": "execute_result"
    }
   ],
   "source": [
    "bio_row.find(\"strong\").text"
   ]
  },
  {
   "cell_type": "code",
   "execution_count": 161,
   "metadata": {},
   "outputs": [
    {
     "data": {
      "text/plain": [
       "'Peevees Mirage, Nilambur P.O., Malappuram District, Kerala.679329  Tel. - 04931-220542, fax:04931-221988 M:09847020911 '"
      ]
     },
     "execution_count": 161,
     "metadata": {},
     "output_type": "execute_result"
    }
   ],
   "source": [
    "bio_row.find_all(\"span\")[-1].text"
   ]
  },
  {
   "cell_type": "code",
   "execution_count": null,
   "metadata": {},
   "outputs": [],
   "source": []
  }
 ],
 "metadata": {
  "kernelspec": {
   "display_name": "Python 3",
   "language": "python",
   "name": "python3"
  },
  "language_info": {
   "codemirror_mode": {
    "name": "ipython",
    "version": 3
   },
   "file_extension": ".py",
   "mimetype": "text/x-python",
   "name": "python",
   "nbconvert_exporter": "python",
   "pygments_lexer": "ipython3",
   "version": "3.7.5"
  }
 },
 "nbformat": 4,
 "nbformat_minor": 2
}
