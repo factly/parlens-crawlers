{
 "cells": [
  {
   "cell_type": "code",
   "execution_count": 12,
   "metadata": {},
   "outputs": [],
   "source": [
    "import pymongo\n",
    "import json\n",
    "import re"
   ]
  },
  {
   "cell_type": "code",
   "execution_count": 4,
   "metadata": {},
   "outputs": [],
   "source": [
    "config_file = open(\"../../Parliament/parliament/config.json\")\n",
    "config = json.load(config_file)\n",
    "client = pymongo.MongoClient(config[\"mongo_server\"])\n",
    "db = client[config[\"mongo_database\"]]\n",
    "collection = db[\"ls_questions\"]"
   ]
  },
  {
   "cell_type": "code",
   "execution_count": 68,
   "metadata": {},
   "outputs": [],
   "source": [
    "texts = []\n",
    "for data in collection.find({},limit=100):\n",
    "    texts.append(data[\"text\"])"
   ]
  },
  {
   "cell_type": "code",
   "execution_count": 139,
   "metadata": {},
   "outputs": [
    {
     "name": "stdout",
     "output_type": "stream",
     "text": [
      "0 [('Minister of State in the Ministry of CIVIL AVIATION      (Shri Jayant Sinha)(a)', 'Minister', '(', ')')]\n",
      "1 [('MINISTER FOR DRINKING WATER AND SANITATION(SUSHREE UMA BHARATI)(a)', 'MINISTER', '(', ')')]\n",
      "2 [('Minister of State in the Ministry of CIVIL AVIATION      (Shri Jayant Sinha)(a)', 'Minister', '(', ')')]\n",
      "3 [('MINISTER OF STATE (INDEPENDENT CHARGE) FOR POWER AND NEW & RENEWABLE ENERGY ( SHRI  R.K. SINGH ) (a)', 'MINISTER', '(', ')')]\n",
      "4 [('Minister of State in the Ministry of CIVIL AVIATION      (Shri Jayant Sinha)(a)', 'Minister', '(', ')')]\n",
      "5 [('MINISTER OF STATE (INDEPENDENT CHARGE)FOR YOUTH AFFAIRS AND SPORTS[COL. RAJYAVARDHAN RATHORE (RETD.)](a)', 'MINISTER', '[', ']')]\n",
      "6 [('MINISTER OF RURAL DEVELOPMENT(SHRI NARENDRA SINGH TOMAR)(a)', 'MINISTER', '(', ')')]\n",
      "7 [('MINISTER OF STATE (INDEPENDENT CHARGE) FOR POWER AND NEW & RENEWABLE ENERGY ( SHRI  R.K. SINGH ) (a)', 'MINISTER', '(', ')')]\n",
      "8 [('MINISTER OF STATE (INDEPENDENT CHARGE)FOR YOUTH AFFAIRS & SPORTS{COL. RAJYAVARDHAN RATHORE (RETD.)}(a)', 'MINISTER', '{', '}')]\n",
      "9 [('MINISTER FOR DRINKING WATER AND SANITATION(SUSHREE UMA BHARATI)(a)', 'MINISTER', '(', ')')]\n",
      "10 [('MINISTER OF STATE FOR NEW & RENEWABLE ENERGY AND POWER (I/C) (SHRI R.K. SINGH)(a)', 'MINISTER', '(', ')')]\n",
      "11 [('MINISTER FOR DRINKING WATER AND SANITATION(SUSHREE UMA BHARATI)(a)', 'MINISTER', '(', ')')]\n",
      "12 [('MINISTER OF RURAL DEVELOPMENT(SHRI NARENDRA SINGH TOMAR)(a)', 'MINISTER', '(', ')')]\n",
      "13 [('MINISTER OF STATE IN THE MINISTRY OF ROAD TRANSPORT AND HIGHWAYS(SHRI MANSUKH L. MANDAVIYA)(a)', 'MINISTER', '(', ')')]\n",
      "14 [('MINISTER OF STATE IN THEMINISTRY OF ROAD TRANSPORT AND HIGHWAYS(SHRI MANSUKH L. MANDAVIYA)(a)', 'MINISTER', '(', ')')]\n",
      "15 [('MINISTER OF STATE IN THE MINISTRY OF ROAD TRANSPORT AND HIGHWAYS(SHRI MANSUKH L.MANDAVIYA)(a)', 'MINISTER', '(', ')')]\n",
      "16 [('MINISTER OF STATE (INDEPENDENT CHARGE) IN THE MINISTRY OF INFORMATION AND BROADCASTING [COL RAJYAVARDHAN RATHORE (Retd.)] (a)', 'MINISTER', '[', ']')]\n",
      "17 [('MINISTER OF STATE (INDEPENDENT CHARGE) FOR POWER AND NEW & RENEWABLE ENERGY ( SHRI  R.K. SINGH ) (a)', 'MINISTER', '(', ')')]\n",
      "18 [('MINISTER OF STATE (INDEPENDENT CHARGE) IN THE MINISTRY OF INFORMATION AND BROADCASTING {COL RAJYAVARDHAN RATHORE(Retd.)}(a)', 'MINISTER', '{', '}')]\n",
      "19 [('MINISTER OF RURAL DEVELOPMENT(SHRI NARENDRA SINGH TOMAR)(a)', 'MINISTER', '(', ')')]\n",
      "20 [('MINISTER OF STATE IN THE MINISTRY OF ROAD TRANSPORT AND HIGHWAYS(SHRI MANSUKH L. MANDAVIYA)(a)', 'MINISTER', '(', ')')]\n",
      "21 [('MINISTER OF STATE FOR DRINKING WATER AND SANITATION(SHRI RAMESH CHANDAPPA JIGAJINAGI)(a)', 'MINISTER', '(', ')')]\n",
      "22 [('Minister of State in the Ministry of CIVIL AVIATION      (Shri Jayant Sinha)(a)', 'Minister', '(', ')')]\n",
      "23 [('Minister of State in the Ministry of CIVIL AVIATION      (Shri Jayant Sinha)(a)', 'Minister', '(', ')')]\n",
      "24 [('MINISTER OF STATE IN THE MINISTRY OF RURAL DEVELOPMENT(SHRI RAM KRIPAL YADAV)(a)', 'MINISTER', '(', ')')]\n",
      "25 [('MINISTER OF STATE IN THE MINISTRY OF PANCHAYATI RAJ (SHRI PARSHOTTAM RUPALA)(a)', 'MINISTER', '(', ')')]\n",
      "26 [('MINISTER OF STATE FOR DRINKING WATER AND SANITATION(SHRI RAMESH CHANDAPPA JIGAJINAGI)(a)', 'MINISTER', '(', ')')]\n",
      "27 [('MINISTER OF STATE FOR TEXTILES(SHRI AJAY TAMTA)(a)', 'MINISTER', '(', ')')]\n",
      "28 [('MINISTER OF STATE FOR TEXTILES(SHRI AJAY TAMTA)(a)', 'MINISTER', '(', ')')]\n",
      "29 [('MINISTER OF STATE FOR WATER RESOURCES, RIVER DEVELOPMENT AND GANGA REJUVENATION & HUMAN RESOURCES DEVELOPMENT(DR. SATYA PAL SINGH)(a)', 'MINISTER', '(', ')')]\n",
      "30 [('MINISTER OF STATE FOR RURAL DEVELOPMENT (SHRI RAM KRIPAL YADAV) (a)', 'MINISTER', '(', ')')]\n",
      "31 [('MINISTER OF STATE IN THEMINISTRY OF ROAD TRANSPORT AND HIGHWAYS(SHRI  MANSUKH  L. MANDAVIYA)(a)', 'MINISTER', '(', ')')]\n",
      "32 [('MINISTER OF STATE IN THE MINISTRY OF ROAD TRANSPORT AND HIGHWAYS(SHRI MANSUKH L. MANDAVIYA)(a)', 'MINISTER', '(', ')')]\n",
      "33 [('MINISTER OF STATE IN THE MINISTRY OF DRINKING WATER & SANITATION(SHRI RAMESH CHANDAPPA JIGAJINAGI)(a)', 'MINISTER', '(', ')')]\n",
      "34 [('MINISTER OF STATE IN THE MINISTRY OF PANCHAYATI RAJ (SHRI PARSHOTTAM RUPALA) (a)', 'MINISTER', '(', ')')]\n",
      "35 [('MINISTER OF STATEFOR MINISTRY OF DRINKING WATER & SANITATION(SHRI RAMESH CHANDAPPA JIGAJINAGI)(a)', 'MINISTER', '(', ')')]\n",
      "36 [('MINISTER OF STATE IN THE MINISTRY OF RURAL DEVELOPMENT(SHRI RAM KRIPAL YADAV)(a)', 'MINISTER', '(', ')')]\n",
      "37 [('MINISTER OF STATE (INDEPENDENT CHARGE) IN THE MINISTRY OF INFORMATION & BROADCASTING     [COL RAJYAVARDHAN RATHORE (Retd.)] (a)', 'MINISTER', '[', ']')]\n",
      "38 [('MINISTER OF STATE FOR TEXTILES(SHRI AJAY TAMTA)(a)', 'MINISTER', '(', ')')]\n",
      "39 [('MINISTER OF STATE IN THE MINISTRY OF RURAL DEVELOPMENT(SHRI RAM KRIPAL YADAV)(a)', 'MINISTER', '(', ')')]\n",
      "40 [('MINISTER OF STATE FOR NEW & RENEWABLE ENERGY AND POWER (I/C)(SHRI R. K. SINGH)(a)', 'MINISTER', '(', ')')]\n",
      "41 [('MINISTER OF STATE IN THE MINISTRY OF ROAD TRANSPORT AND HIGHWAYS(SHRI MANSUKH L. MANDAVIYA)(a)', 'MINISTER', '(', ')')]\n",
      "42 [('MINISTER OF STATE IN THE MINISTRY OF ROAD TRANSPORT & HIGHWAYS(SHRI MANSUKH L. MANDAVIYA)(a)', 'MINISTER', '(', ')')]\n",
      "43 [('Minister of State in the Ministry of CIVIL AVIATION      (Shri Jayant Sinha)(a)', 'Minister', '(', ')')]\n",
      "44 []\n",
      "45 [('MINISTER OF STATE (INDEPENDENT CHARGE) FOR YOUTH AFFAIRS AND SPORTS[COL. RAJYAVARDHAN RATHORE (RETD.)](a)', 'MINISTER', '[', ']')]\n",
      "46 [('Minister of State in the Ministry of CIVIL AVIATION      (Shri Jayant Sinha)(a)', 'Minister', '(', ')')]\n",
      "47 [('MINISTER OF STATE FOR NEW & RENEWABLE ENERGY AND POWER (I/C)(SHRI R. K. SINGH)(a)', 'MINISTER', '(', ')')]\n",
      "48 [('MINISTER OF STATE FOR WATER RESOURCES, RIVER DEVELOPMENT AND GANGA REJUVENATION & PARLIAMENTARY AFFAIRS(SHRI ARJUN RAM MEGHWAL)(a)', 'MINISTER', '(', ')')]\n",
      "49 [('MINISTER OF STATE FOR NEW & RENEWABLE ENERGY AND POWER (I/C)(SHRI R. K. SINGH)(a)', 'MINISTER', '(', ')')]\n",
      "50 [('MINISTER OF STATE IN THE MINISTRY OF RURAL DEVELOPMENT(SHRI RAM KRIPAL YADAV)(a)', 'MINISTER', '(', ')')]\n",
      "51 [('MINISTER OF STATE (INDEPENDENT CHARGE) FOR POWER AND NEW & RENEWABLE ENERGY ( SHRI  R. K. SINGH )(a)', 'MINISTER', '(', ')')]\n",
      "52 [('Minister of State in the Ministry of CIVIL AVIATION      (Shri Jayant Sinha)(a)', 'Minister', '(', ')')]\n",
      "53 [('MINISTER OF STATE (INDEPENDENT CHARGE) FOR POWER AND NEW & RENEWABLE ENERGY ( SHRI  R. K. SINGH )(a)', 'MINISTER', '(', ')')]\n",
      "54 [('MINISTER OF STATE FOR MINISTRY OF DRINKING WATER & SANITATION(SHRI RAMESH CHANDAPPA JIGAJINAGI)(a)', 'MINISTER', '(', ')')]\n",
      "55 [('MINISTER OF STATE IN THEMINISTRY OF ROAD TRANSPORT AND HIGHWAYS(SHRI MANSUKH L. MANDAVIYA)(a)', 'MINISTER', '(', ')')]\n",
      "56 [('MINISTER OF STATE IN THE MINISTRY OF DRINKING WATER & SANITATION(SHRI RAMESH CHANDAPPA JIGAJINAGI)(a)', 'MINISTER', '(', ')')]\n",
      "57 [('MINISTER OF STATE IN THEMINISTRY OF ROAD TRANSPORT AND HIGHWAYS(SHRI MANSUKH L. MANDAVIYA)(a)', 'MINISTER', '(', ')')]\n",
      "58 [('MINISTER OF STATE IN THEMINISTRY OF ROAD TRANSPORT AND HIGHWAYS(SHRI MANSUKH L. MANDAVIYA)(a)', 'MINISTER', '(', ')')]\n",
      "59 [('MINISTER OF STATE IN THEMINISTRY OF ROAD TRANSPORT AND HIGHWAYS       (SHRI MANSUKH L. MANDAVIYA)(a)', 'MINISTER', '(', ')')]\n",
      "60 []\n",
      "61 [('MINISTER OF STATE FOR NEW & RENEWABLE ENERGY AND POWER (I/C)(SHRI R. K. SINGH)(a)', 'MINISTER', '(', ')')]\n",
      "62 [('Minister of State in the Ministry of CIVIL AVIATION      (Shri Jayant Sinha)(a)', 'Minister', '(', ')')]\n",
      "63 [('MINISTER OF STATE (INDEPENDENT CHARGE) FOR YOUTH AFFAIRS AND SPORTS[COL. RAJYAVARDHAN RATHORE(RETD.)](a)', 'MINISTER', '[', ']')]\n",
      "64 [('MINISTER OF STATE IN THE MINISTRY OF RURAL DEVELOPMENT(SHRI RAM KRIPAL YADAV)(a)', 'MINISTER', '(', ')')]\n",
      "65 [('MINISTER OF STATE IN THEMINISTRY OF ROAD TRANSPORT AND HIGHWAYS(SHRI MANSUKH L. MANDAVIYA)(a)', 'MINISTER', '(', ')')]\n",
      "66 [('MINISTER OF STATE FOR WATER RESOURCES, RIVER DEVELOPMENT AND GANGA REJUVENATION & PARLIAMENTARY AFFAIRS(SHRI ARJUN RAM MEGHWAL)(a)', 'MINISTER', '(', ')')]\n",
      "67 [('MINISTER OF STATE FOR TEXTILES(SHRI AJAY TAMTA)(a)', 'MINISTER', '(', ')')]\n",
      "68 [('MINISTER OF STATE IN THEMINISTRY OF ROAD TRANSPORT AND HIGHWAYS(SHRI  MANSUKH  L. MANDAVIYA)(a)', 'MINISTER', '(', ')')]\n",
      "69 [('MINISTER OF STATE (INDEPENDENT CHARGE) FOR POWER AND NEW & RENEWABLE ENERGY ( SHRI  R. K. SINGH )(a)', 'MINISTER', '(', ')')]\n",
      "70 [('Minister of State in the Ministry of CIVIL AVIATION      (Shri Jayant Sinha)(a)', 'Minister', '(', ')')]\n",
      "71 [('MINISTER OF STATE IN THEMINISTRY OF ROAD TRANSPORT AND HIGHWAYS(SHRI MANSUKH L. MANDAVIYA)(a)', 'MINISTER', '(', ')')]\n",
      "72 []\n",
      "73 [('Minister of State in the Ministry of CIVIL AVIATION      (Shri Jayant Sinha)(a)', 'Minister', '(', ')')]\n",
      "74 []\n",
      "75 []\n",
      "76 [('MINISTER OF STATE IN THE MINISTRY OF RURAL DEVELOPMENT(SHRI RAM KRIPAL YADAV)(a)', 'MINISTER', '(', ')')]\n",
      "77 []\n",
      "78 [('MINISTER OF STATE FOR NEW & RENEWABLE ENERGY AND POWER (I/C)(SHRI R. K. SINGH)(a)', 'MINISTER', '(', ')')]\n",
      "79 [('Minister of State in the Ministry of CIVIL AVIATION      (Shri Jayant Sinha)(a)', 'Minister', '(', ')')]\n",
      "80 [('MINISTER OF STATE IN THEMINISTRY OF ROAD TRANSPORT AND HIGHWAYS(SHRI MANSUKH L. MANDAVIYA)(a)', 'MINISTER', '(', ')')]\n",
      "81 [('MINISTER OF STATE FOR DRINKING WATER AND SANITATION(SHRI RAMESH CHANDAPPA JIGAJINAGI)(a)', 'MINISTER', '(', ')')]\n",
      "82 [('MINISTER OF STATE FOR MINES AND COAL(SHRI HARIBHAI PARTHIBHAI CHAUDHARY)(a)', 'MINISTER', '(', ')')]\n",
      "83 [('MINISTER OF STATE (INDEPENDENT CHARGE) FOR POWER AND NEW & RENEWABLE ENERGY ( SHRI  R. K. SINGH )(a)', 'MINISTER', '(', ')')]\n",
      "84 [('MINISTER OF STATE FOR TEXTILES(SHRI AJAY TAMTA)(a)', 'MINISTER', '(', ')')]\n",
      "85 [('MINISTER OF STATEIN THE MINISTRY OF DRINKING WATER & SANITATION(SHRI RAMESH CHANDAPPA JIGAJINAGI)(a)', 'MINISTER', '(', ')')]\n",
      "86 [('MINISTER OF STATE IN THEMINISTRY OF ROAD TRANSPORT AND HIGHWAYS(SHRI MANSUKH L. MANDAVIYA)(a)', 'MINISTER', '(', ')')]\n",
      "87 [('MINISTER OF STATE DRINKING WATER AND SANITATION(SHRI RAMESH CHANDAPPA JIGAJINAGI)  (a)', 'MINISTER', '(', ')')]\n",
      "88 [('Minister of State in the Ministry of CIVIL AVIATION      (Shri Jayant Sinha)(a)', 'Minister', '(', ')')]\n",
      "89 [('MINISTER OF STATE (INDEPENDENT CHAREGE) IN THE MINISTRY OF INFORMATION AND BROADCASTING      {COL RAJYAVARDHAN RATHORE(Retd.)}(a)', 'MINISTER', '{', '}')]\n",
      "90 [('Minister of State in the Ministry of CIVIL AVIATION      (Shri Jayant Sinha)(a)', 'Minister', '(', ')')]\n",
      "91 [('MINISTER OF STATE FOR TEXTILES(SHRI AJAY TAMTA)(a)', 'MINISTER', '(', ')')]\n",
      "92 [('MINISTER OF STATE FOR WATER RESOURCES, RIVER DEVELOPMENT AND GANGA REJUVENATION & PARLIAMENTARY AFFAIRS(SHRI ARJUN RAM MEGHWAL)(a)', 'MINISTER', '(', ')')]\n",
      "93 [('MINISTER OF STATE IN THEMINISTRY OF ROAD TRANSPORT AND HIGHWAYS(SHRI  MANSUKH  L. MANDAVIYA)(a)', 'MINISTER', '(', ')')]\n",
      "94 [('MINISTER OF STATE IN THEMINISTRY OF ROAD TRANSPORT AND HIGHWAYS(SHRI MANSUKH L. MANDAVIYA)(a)', 'MINISTER', '(', ')')]\n",
      "95 [('MINISTER OF STATE IN THEMINISTRY OF ROAD TRANSPORT AND HIGHWAYS(SHRI MANSUKH L. MANDAVIYA)(a)', 'MINISTER', '(', ')')]\n",
      "96 [('MINISTER OF STATE FOR TEXTILES(SHRI AJAY TAMTA)(a)', 'MINISTER', '(', ')')]\n",
      "97 [('MINISTER OF STATE IN THE MINISTRY OF RURAL DEVELOPMENT(SHRI RAM KRIPAL YADAV)(a)', 'MINISTER', '(', ')')]\n",
      "98 [('MINISTER OF STATE FOR WATER RESOURCES, RIVER DEVELOPMENT AND GANGA REJUVENATION & PARLIAMENTARY AFFAIRS(SHRI ARJUN RAM MEGHWAL)(a)', 'MINISTER', '(', ')')]\n",
      "99 [('MINISTER OF STATE (INDEPENDENT CHARGE) FOR YOUTH AFFAIRS & SPORTS{COL. RAJYAVARDHAN RATHORE (RETD.)}(a)', 'MINISTER', '{', '}')]\n"
     ]
    }
   ],
   "source": [
    "for i in range(len(texts)):\n",
    "    print(i, re.findall(\"((Ministry|Minister)[\\w\\s\\(\\)\\&//\\,]*(\\{|\\[|\\()[\\w\\s\\.\\)\\()]*(\\}|\\)|\\])\\s*\\(a\\))\",texts[i],re.IGNORECASE))"
   ]
  },
  {
   "cell_type": "code",
   "execution_count": 142,
   "metadata": {},
   "outputs": [
    {
     "name": "stdout",
     "output_type": "stream",
     "text": [
      "(a)\twhether any trucks were sent to Bangladesh recently via sea route;(b)\tif so, the details and the benefits thereof;(c)\twhether the Government is exploring new avenues for promotion of shipping, \tcommerce and trade through it; and (d)\tif so, the details thereof and the roadmap prepared for the same ?\n",
      "\n",
      "\n",
      "\n",
      "\n",
      "\n",
      "\n",
      "ANSWER\n",
      "\n",
      "\n",
      "\n",
      "\r\n",
      "                                                        (a) & (b) Yes, Madam. Details of trucks sent directly to Bangladesh through sea route since October 2017 are given below:-Sl. No.\tName of Port\tNo. of trucks1.\tKolkata Port\t12262.\tChennai Port\t  912Total\t2138Benefits of sending trucks through sea routes are(i) \tit reduces load on rail and road traffic.(i)\tit saves fuel consumption and offers a greener alternatives to cargo movement.(ii)\tit is cost effective compared to Road and Rail  mode of transport.(iii)\t it reduces carbon foot-print.(c) & (d) Yes, Madam. A Coastal Shipping Agreement was signed between India and Bangladesh in June 2015.  The Standard Operating Procedure (SOP) between the two countries was also signed in November 2015 to implement the Coastal Shipping Agreement.  As per the Agreement, sea transport from India to Bangladesh is treated as coastal movement, making it eligible for 40 percent concession on vessel-related and cargo related charges.  Apart from above, Haldia Dock Complex under Kolkata Port Trust has been declared as a Transshipment Port for containerised cargo originating from/destined to Bangladesh to attract more cargo movement through sea-route.  Further to enhance the trade, an agreement on the use of Chittagong and Mongla Ports in Bangladesh for movement of goods to and from India was signed between the two countries in October 2018. \t                                          *****\n"
     ]
    }
   ],
   "source": [
    "print(texts[74])"
   ]
  },
  {
   "cell_type": "code",
   "execution_count": 9,
   "metadata": {},
   "outputs": [
    {
     "data": {
      "text/plain": [
       "['(a) whether the Government has launched a scheme titled \"Digi Yatra\" for speedy disposal of services in the airports and if so, the details thereof; and(b) whether  any  time  bound programme of action is planned to cover all airports of the country under the above scheme and if so, the details thereof?',\n",
       " '                                                        The Minister of State in the Ministry of CIVIL AVIATION      (Shri Jayant Sinha)(a) & (b): A Statement is laid on the Table of the House.']"
      ]
     },
     "execution_count": 9,
     "metadata": {},
     "output_type": "execute_result"
    }
   ],
   "source": [
    "data[\"text\"].split(\"\\n\\n\\n\\n\\n\\n\\nANSWER\\n\\n\\n\\n\\r\\n\")"
   ]
  },
  {
   "cell_type": "code",
   "execution_count": 47,
   "metadata": {},
   "outputs": [
    {
     "data": {
      "text/plain": [
       "['Ministry of CIVIL AVIATION      (Shri Jayant Sinha)']"
      ]
     },
     "execution_count": 47,
     "metadata": {},
     "output_type": "execute_result"
    }
   ],
   "source": [
    "re.findall(\"Ministry[\\w\\s]*['('][\\w\\s]*[')']\",data[\"text\"])"
   ]
  },
  {
   "cell_type": "code",
   "execution_count": 200,
   "metadata": {},
   "outputs": [],
   "source": [
    "questions = []"
   ]
  },
  {
   "cell_type": "code",
   "execution_count": 201,
   "metadata": {},
   "outputs": [],
   "source": [
    "for i in range(895,901):\n",
    "    questions.append(collection.find_one({\"question_number\" : str(i)}))"
   ]
  },
  {
   "cell_type": "code",
   "execution_count": 203,
   "metadata": {},
   "outputs": [],
   "source": [
    "for i in range(len(questions)):\n",
    "    questions[i]['question'] = questions[i]['text'].split(\"ANSWER\")[0].strip('\\n\\r ')\n",
    "    questions[i]['answer'] = questions[i]['text'].split(\"ANSWER\")[1].strip('\\n\\r ')"
   ]
  },
  {
   "cell_type": "code",
   "execution_count": 204,
   "metadata": {},
   "outputs": [
    {
     "data": {
      "text/plain": [
       "[{'_id': ObjectId('5c5c66f98a2fae18d4c18416'),\n",
       "  'question_number': '895',\n",
       "  'question_type': 'UNSTARRED',\n",
       "  'english_pdf': 'http://164.100.47.190/loksabhaquestions/annex/17/AU895.pdf',\n",
       "  'hindi_pdf': 'http://164.100.47.190/loksabhaquestions/qhindi/17/AU895.pdf',\n",
       "  'date': '07.02.2019',\n",
       "  'ministry': 'YOUTH AFFAIRS AND SPORTS',\n",
       "  'members': ['Lekhi Smt. Meenakashi'],\n",
       "  'subject': 'Development of Sports',\n",
       "  'link': 'http://164.100.47.194/Loksabha/Questions/QResult15.aspx?qref=79041&lsno=16',\n",
       "  'meta': {'current_page': 5,\n",
       "   'total_pages': 7806,\n",
       "   'page_url': 'http://164.100.47.194/Loksabha/Questions/Qtextsearch.aspx/',\n",
       "   'fetched_on': '2019-02-07 22:42:24.862884'},\n",
       "  'qref': '79041',\n",
       "  'text': 'a) the present status of the proposal to bring Sports under Concurrent List from State List;b) the measures likely to be taken at national level for development of sports in case the said proposal is passed; andc) the measures taken/being taken by the Government for increasing the participation of women and youth from tribal areas in sports?\\r\\n                                                \\n\\n\\n\\n\\n\\nANSWER\\n\\n\\n\\n\\r\\n                                                        THE MINISTER OF STATE (INDEPENDENT CHARGE) FOR YOUTH AFFAIRS AND SPORTS[COL. RAJYAVARDHAN RATHORE (RETD.)](a) & (b): There is a proposal under consideration of the Government to bring “Sports” under concurrent List from State List. In this regard, the Ministry of Youth Affairs & Sports (Department of Sports) has sought comments from the concerned Ministries/Departments as well as Governments of States/UTs.The main objective of shifting “Sports” from State List to Concurrent List is to enable the Central Government to provide for a robust comprehensive framework for sports.(c): All sports promotional schemes of the Department of Sports are equally applicable to whole country irrespective of area and gender.However, some schemes of the Ministry have specific component for increasing the participation of women and youth from tribal areas in sports. The Khelo India Scheme being implemented by the Department of Sports have two dedicated verticals, namely, “Sports for Women” and “Promotion of rural and indigenous/tribal games” for encouraging the participation of women and youth from tribal areas respectively. Special Area Games Scheme being implemented by SAI with a view to tap the sports potential amongst the age group 12-18 years available in the tribal, costal, rural and inaccessible areas of the country.Continuous efforts are made to increase the participation of women and youth from tribal areas in the sports by the Department of Sports. As a result, the participation of women and youth from rural and tribal areas of the country has increased under various Schemes of the Department.*****',\n",
       "  'question': 'a) the present status of the proposal to bring Sports under Concurrent List from State List;b) the measures likely to be taken at national level for development of sports in case the said proposal is passed; andc) the measures taken/being taken by the Government for increasing the participation of women and youth from tribal areas in sports?',\n",
       "  'answer': 'THE MINISTER OF STATE (INDEPENDENT CHARGE) FOR YOUTH AFFAIRS AND SPORTS[COL. RAJYAVARDHAN RATHORE (RETD.)](a) & (b): There is a proposal under consideration of the Government to bring “Sports” under concurrent List from State List. In this regard, the Ministry of Youth Affairs & Sports (Department of Sports) has sought comments from the concerned Ministries/Departments as well as Governments of States/UTs.The main objective of shifting “Sports” from State List to Concurrent List is to enable the Central Government to provide for a robust comprehensive framework for sports.(c): All sports promotional schemes of the Department of Sports are equally applicable to whole country irrespective of area and gender.However, some schemes of the Ministry have specific component for increasing the participation of women and youth from tribal areas in sports. The Khelo India Scheme being implemented by the Department of Sports have two dedicated verticals, namely, “Sports for Women” and “Promotion of rural and indigenous/tribal games” for encouraging the participation of women and youth from tribal areas respectively. Special Area Games Scheme being implemented by SAI with a view to tap the sports potential amongst the age group 12-18 years available in the tribal, costal, rural and inaccessible areas of the country.Continuous efforts are made to increase the participation of women and youth from tribal areas in the sports by the Department of Sports. As a result, the participation of women and youth from rural and tribal areas of the country has increased under various Schemes of the Department.*****'},\n",
       " {'_id': ObjectId('5c5c66f88a2fae18d4c18415'),\n",
       "  'question_number': '896',\n",
       "  'question_type': 'UNSTARRED',\n",
       "  'english_pdf': 'http://164.100.47.190/loksabhaquestions/annex/17/AU896.pdf',\n",
       "  'hindi_pdf': 'http://164.100.47.190/loksabhaquestions/qhindi/17/AU896.pdf',\n",
       "  'date': '07.02.2019',\n",
       "  'ministry': 'INFORMATION AND BROADCASTING',\n",
       "  'members': ['Singh Shri Ravneet'],\n",
       "  'subject': 'Central Board of Film Certification',\n",
       "  'link': 'http://164.100.47.194/Loksabha/Questions/QResult15.aspx?qref=79015&lsno=16',\n",
       "  'meta': {'current_page': 5,\n",
       "   'total_pages': 7806,\n",
       "   'page_url': 'http://164.100.47.194/Loksabha/Questions/Qtextsearch.aspx/',\n",
       "   'fetched_on': '2019-02-07 22:42:24.268305'},\n",
       "  'qref': '79015',\n",
       "  'text': '(a)\\twhether the Government proposes to amend the Cinematography Act, 1952 in any way and if so, the details thereof;(b)\\twhether the Central Board of Film Certification (CBFC) formed under the Act is devoid of independence especially with regards to the CBFC members being appointed by the Government;(c)\\tif so, the details thereof; and (d)\\tthe number of films which have received cuts by the CBFC under Section 5B of the Act?\\n\\n\\n\\n\\n\\n\\nANSWER\\n\\n\\n\\n\\r\\n                                                        THE MINISTER OF STATE (INDEPENDENT CHARGE) IN THE MINISTRY OF INFORMATION AND BROADCASTING [COL RAJYAVARDHAN RATHORE (Retd.)]:(a):\\tYes Madam. In order to curb piracy of films, the Government has finalized to introduce a Cinematograph Amendment Bill, 2019 to impose strict penalties against unauthorized duplication of films.(b) & (c):\\tNo Madam. The Central Board of Film Certification (CBFC) has been given adequate independence to performs the statutory function of certifying films for public exhibition.  The functioning of the Board is well laid out under the Cinematograph Act and Rules and the Board alone takes it decision within its jurisdiction.  The persons appointed as Members are eminent personalities from different spheres like education, arts, film, social sciences, law, etc. in accordance with Section 3(1) of the Cinematograph Act, 1952 read with rule 3 of the Cinematograph (Certification) Rules, 1983.(d):\\tIn accordance with the established  Rules and Procedure defined under Cinematograph Act, 1952 read along with the Cinematograph (Certification) Rules, 1983 and the Central Government guidelines of 1991, CBFC  issues certification under categories U, UA, A and S, as applicable.  CBFC has imposed cuts under Section 5B of the Cinematograph Act in respect of total of 4815 films [1215 (U); 3009 (UA); 590 (A) and 01 (S)] during 1st April, 2017 to 31st December, 2018.*****',\n",
       "  'question': '(a)\\twhether the Government proposes to amend the Cinematography Act, 1952 in any way and if so, the details thereof;(b)\\twhether the Central Board of Film Certification (CBFC) formed under the Act is devoid of independence especially with regards to the CBFC members being appointed by the Government;(c)\\tif so, the details thereof; and (d)\\tthe number of films which have received cuts by the CBFC under Section 5B of the Act?',\n",
       "  'answer': 'THE MINISTER OF STATE (INDEPENDENT CHARGE) IN THE MINISTRY OF INFORMATION AND BROADCASTING [COL RAJYAVARDHAN RATHORE (Retd.)]:(a):\\tYes Madam. In order to curb piracy of films, the Government has finalized to introduce a Cinematograph Amendment Bill, 2019 to impose strict penalties against unauthorized duplication of films.(b) & (c):\\tNo Madam. The Central Board of Film Certification (CBFC) has been given adequate independence to performs the statutory function of certifying films for public exhibition.  The functioning of the Board is well laid out under the Cinematograph Act and Rules and the Board alone takes it decision within its jurisdiction.  The persons appointed as Members are eminent personalities from different spheres like education, arts, film, social sciences, law, etc. in accordance with Section 3(1) of the Cinematograph Act, 1952 read with rule 3 of the Cinematograph (Certification) Rules, 1983.(d):\\tIn accordance with the established  Rules and Procedure defined under Cinematograph Act, 1952 read along with the Cinematograph (Certification) Rules, 1983 and the Central Government guidelines of 1991, CBFC  issues certification under categories U, UA, A and S, as applicable.  CBFC has imposed cuts under Section 5B of the Cinematograph Act in respect of total of 4815 films [1215 (U); 3009 (UA); 590 (A) and 01 (S)] during 1st April, 2017 to 31st December, 2018.*****'},\n",
       " {'_id': ObjectId('5c5c66f88a2fae18d4c18414'),\n",
       "  'question_number': '897',\n",
       "  'question_type': 'UNSTARRED',\n",
       "  'english_pdf': 'http://164.100.47.190/loksabhaquestions/annex/17/AU897.pdf',\n",
       "  'hindi_pdf': 'http://164.100.47.190/loksabhaquestions/qhindi/17/AU897.pdf',\n",
       "  'date': '07.02.2019',\n",
       "  'ministry': 'CIVIL AVIATION',\n",
       "  'members': ['Senguttuvan Shri Balasubramaniam'],\n",
       "  'subject': 'Dues to AAI',\n",
       "  'link': 'http://164.100.47.194/Loksabha/Questions/QResult15.aspx?qref=79055&lsno=16',\n",
       "  'meta': {'current_page': 5,\n",
       "   'total_pages': 7806,\n",
       "   'page_url': 'http://164.100.47.194/Loksabha/Questions/Qtextsearch.aspx/',\n",
       "   'fetched_on': '2019-02-07 22:42:23.668231'},\n",
       "  'qref': '79055',\n",
       "  'text': '(a) whether the various Indian and foreign airlines owe dues to the Airports Authority of India (AAI) for availing of fuel and other facilities;(b) if so, the details thereof;(c) whether the Kingfisher, Spicejet and Go Air Airlines owe money to the Airports Authority of India, if so, the total quantum of money owed by them and the reasons why they accumulated so much of dues; and(d) whether the Airports Authority of India would take immediate steps to recover the dues particularly from the Kingfisher and Spicejet Airlines since they are having financial crunches?\\n\\n\\n\\n\\n\\n\\nANSWER\\n\\n\\n\\n\\r\\n                                                        The Minister of State in the Ministry of CIVIL AVIATION      (Shri Jayant Sinha)(a) & (b): Yes, Madam. Various Indian and foreign airlines owe dues to the Airports Authority of India (AAI) which, excluding dues of Kingfisher airlines, are as under: ;  i.  Dues, excluding penal interest, claim against Domestic scheduled & non- scheduled Airlines Operators as on 15.01.2019 is Rs.2448.41 Crores.  ii.  Dues against Foreign scheduled & non- scheduled Airlines Operators is Rs.312.27 Crores.  (c) & (d): Yes, Madam. The dues against these airlines are as under: ;  i.  Kingfisher Airlines - Rs. 294.69 crores including penal interest of Rs.119.39 crores;  ii. Spicejet Airlines - Rs. 105.71 crores against security deposit of Rs. 124.22 crores;  iii. Go Air Airlines - Rs. 19.35 crores against security deposit of Rs. 73.12 crores;AAI has already filed a Court case on 14.03.2014 for recovery of dues from Kingfisher airlines and has taken up the matter with Spicejet for clearing the dues. The dues against Go Air are regular dues.',\n",
       "  'question': '(a) whether the various Indian and foreign airlines owe dues to the Airports Authority of India (AAI) for availing of fuel and other facilities;(b) if so, the details thereof;(c) whether the Kingfisher, Spicejet and Go Air Airlines owe money to the Airports Authority of India, if so, the total quantum of money owed by them and the reasons why they accumulated so much of dues; and(d) whether the Airports Authority of India would take immediate steps to recover the dues particularly from the Kingfisher and Spicejet Airlines since they are having financial crunches?',\n",
       "  'answer': 'The Minister of State in the Ministry of CIVIL AVIATION      (Shri Jayant Sinha)(a) & (b): Yes, Madam. Various Indian and foreign airlines owe dues to the Airports Authority of India (AAI) which, excluding dues of Kingfisher airlines, are as under: ;  i.  Dues, excluding penal interest, claim against Domestic scheduled & non- scheduled Airlines Operators as on 15.01.2019 is Rs.2448.41 Crores.  ii.  Dues against Foreign scheduled & non- scheduled Airlines Operators is Rs.312.27 Crores.  (c) & (d): Yes, Madam. The dues against these airlines are as under: ;  i.  Kingfisher Airlines - Rs. 294.69 crores including penal interest of Rs.119.39 crores;  ii. Spicejet Airlines - Rs. 105.71 crores against security deposit of Rs. 124.22 crores;  iii. Go Air Airlines - Rs. 19.35 crores against security deposit of Rs. 73.12 crores;AAI has already filed a Court case on 14.03.2014 for recovery of dues from Kingfisher airlines and has taken up the matter with Spicejet for clearing the dues. The dues against Go Air are regular dues.'},\n",
       " {'_id': ObjectId('5c5c66f78a2fae18d4c18413'),\n",
       "  'question_number': '898',\n",
       "  'question_type': 'UNSTARRED',\n",
       "  'english_pdf': 'http://164.100.47.190/loksabhaquestions/annex/17/AU898.pdf',\n",
       "  'hindi_pdf': 'http://164.100.47.190/loksabhaquestions/qhindi/17/AU898.pdf',\n",
       "  'date': '07.02.2019',\n",
       "  'ministry': 'ROAD TRANSPORT AND HIGHWAYS',\n",
       "  'members': ['Venugopal Shri K. C.'],\n",
       "  'subject': 'Alappuzha By-pass Project',\n",
       "  'link': 'http://164.100.47.194/Loksabha/Questions/QResult15.aspx?qref=79211&lsno=16',\n",
       "  'meta': {'current_page': 5,\n",
       "   'total_pages': 7806,\n",
       "   'page_url': 'http://164.100.47.194/Loksabha/Questions/Qtextsearch.aspx/',\n",
       "   'fetched_on': '2019-02-07 22:42:22.701164'},\n",
       "  'qref': '79211',\n",
       "  'text': 'a)\\tthe current status of the construction of the long-pending Alappuzha by-pass project ;b)\\tthe time by which the construction will be completed and opened for the public; andc)\\twhether the Government is willing to call a review meeting to monitor the progress of the work  in a time bound manner? \\n\\n\\n\\n\\n\\n\\nANSWER\\n\\n\\n\\n\\r\\n                                                        THE MINISTER OF STATE IN THE MINISTRY OF ROAD TRANSPORT & HIGHWAYS(SHRI MANSUKH L. MANDAVIYA)(a) to (c)  The physical progress of the work of construction of 6.80 km long Alappuzha bypass on NH 66 (Old NH 47) in Kerala is 98.6%.  The entire bypass has been completed except erection of Superstructures for 2 Road Over Bridges (ROBs) in the alignment and related works.  The construction of superstructure could not be started due to pending matter with Railways for waiver of supervision & maintenance charges and signing of Memorandum of Understanding (MOU) between Railways and State PWD, for which matter is being pursued by this Ministry with the Railways. The entire work including ROBs is likely to be completed by June 2019.* * * * *',\n",
       "  'question': 'a)\\tthe current status of the construction of the long-pending Alappuzha by-pass project ;b)\\tthe time by which the construction will be completed and opened for the public; andc)\\twhether the Government is willing to call a review meeting to monitor the progress of the work  in a time bound manner?',\n",
       "  'answer': 'THE MINISTER OF STATE IN THE MINISTRY OF ROAD TRANSPORT & HIGHWAYS(SHRI MANSUKH L. MANDAVIYA)(a) to (c)  The physical progress of the work of construction of 6.80 km long Alappuzha bypass on NH 66 (Old NH 47) in Kerala is 98.6%.  The entire bypass has been completed except erection of Superstructures for 2 Road Over Bridges (ROBs) in the alignment and related works.  The construction of superstructure could not be started due to pending matter with Railways for waiver of supervision & maintenance charges and signing of Memorandum of Understanding (MOU) between Railways and State PWD, for which matter is being pursued by this Ministry with the Railways. The entire work including ROBs is likely to be completed by June 2019.* * * * *'},\n",
       " {'_id': ObjectId('5c5c66f68a2fae18d4c18412'),\n",
       "  'question_number': '899',\n",
       "  'question_type': 'UNSTARRED',\n",
       "  'english_pdf': 'http://164.100.47.190/loksabhaquestions/annex/17/AU899.pdf',\n",
       "  'hindi_pdf': 'http://164.100.47.190/loksabhaquestions/qhindi/17/AU899.pdf',\n",
       "  'date': '07.02.2019',\n",
       "  'ministry': 'ROAD TRANSPORT AND HIGHWAYS',\n",
       "  'members': ['Ahlawat Smt. Santosh'],\n",
       "  'subject': 'Hybrid Annuity Model',\n",
       "  'link': 'http://164.100.47.194/Loksabha/Questions/QResult15.aspx?qref=79209&lsno=16',\n",
       "  'meta': {'current_page': 5,\n",
       "   'total_pages': 7806,\n",
       "   'page_url': 'http://164.100.47.194/Loksabha/Questions/Qtextsearch.aspx/',\n",
       "   'fetched_on': '2019-02-07 22:42:22.051105'},\n",
       "  'qref': '79209',\n",
       "  'text': 'a) whether a number of projects of NHAI are running behind schedule due to the problem in land acquisition and if so, the UT and State-wise details along with the action taken by the Government;(b) whether a large number of Hybrid annuity model (HAM) projects are yet to secure financial closure due to selective sanctioning of loans by the banks and if so, the list of HAM projects which are yet to secured financial closure, UT/ State-wise;(c) whether the Government is planning to shift in awarding of road projects on pure EPC basis; and(d) if so, the details thereof along with the reasons of shift?\\n\\n\\n\\n\\n\\n\\nANSWER\\n\\n\\n\\n\\r\\n                                                        THE MINISTER OF STATE IN THE MINISTRY OF ROAD TRANSPORT AND HIGHWAYS(SHRI MANSUKH L. MANDAVIYA)(a) Yes, Madam, approximately 26 National Highway projects have been delayed wherein land acquisition is one of the reasons. State-wise list of such projects is enclosed as Annexure- I.  The following steps have been taken by NHAI/Government to expedite the process: •\\tStreamlining of land acquisition•\\tDisputes Resolution mechanism revamped •\\tAward of projects after adequate preparation in terms of land acquisition, clearances etc.  Process of obtaining clearances from different Ministries/Department would commence as soon as the alignment is finalized and final feasibility report is submitted.•\\tClose coordination with other Ministries and State Governments•\\tCompletion of major portion of land acquisition prior to initiation of bid.•\\tRegular review at various levels.•\\tRationalize compensation for delays attributed to authority•\\tThe new Bhoomirashi portal for Land Acquisition have expedited and streamlined the Land Acquisition process.(b) No Madam. Financial Closure in respect of 80 Hybrid Annuity Model (HAM) projects has already been achieved by the Concessionaires. Proposal for 12  projects has been initiated for declaration of Financial closure and for 16 projects documents have not been received, however, Concession Agreement has already been executed. Details are enclosed as Annexure-II. (c) & (d) No, Madam. There is no consideration in NHAI for shift in awarding road projects purely on EPC basis.',\n",
       "  'question': 'a) whether a number of projects of NHAI are running behind schedule due to the problem in land acquisition and if so, the UT and State-wise details along with the action taken by the Government;(b) whether a large number of Hybrid annuity model (HAM) projects are yet to secure financial closure due to selective sanctioning of loans by the banks and if so, the list of HAM projects which are yet to secured financial closure, UT/ State-wise;(c) whether the Government is planning to shift in awarding of road projects on pure EPC basis; and(d) if so, the details thereof along with the reasons of shift?',\n",
       "  'answer': 'THE MINISTER OF STATE IN THE MINISTRY OF ROAD TRANSPORT AND HIGHWAYS(SHRI MANSUKH L. MANDAVIYA)(a) Yes, Madam, approximately 26 National Highway projects have been delayed wherein land acquisition is one of the reasons. State-wise list of such projects is enclosed as Annexure- I.  The following steps have been taken by NHAI/Government to expedite the process: •\\tStreamlining of land acquisition•\\tDisputes Resolution mechanism revamped •\\tAward of projects after adequate preparation in terms of land acquisition, clearances etc.  Process of obtaining clearances from different Ministries/Department would commence as soon as the alignment is finalized and final feasibility report is submitted.•\\tClose coordination with other Ministries and State Governments•\\tCompletion of major portion of land acquisition prior to initiation of bid.•\\tRegular review at various levels.•\\tRationalize compensation for delays attributed to authority•\\tThe new Bhoomirashi portal for Land Acquisition have expedited and streamlined the Land Acquisition process.(b) No Madam. Financial Closure in respect of 80 Hybrid Annuity Model (HAM) projects has already been achieved by the Concessionaires. Proposal for 12  projects has been initiated for declaration of Financial closure and for 16 projects documents have not been received, however, Concession Agreement has already been executed. Details are enclosed as Annexure-II. (c) & (d) No, Madam. There is no consideration in NHAI for shift in awarding road projects purely on EPC basis.'},\n",
       " {'_id': ObjectId('5c5c66f68a2fae18d4c18411'),\n",
       "  'question_number': '900',\n",
       "  'question_type': 'UNSTARRED',\n",
       "  'english_pdf': 'http://164.100.47.190/loksabhaquestions/annex/17/AU900.pdf',\n",
       "  'hindi_pdf': 'http://164.100.47.190/loksabhaquestions/qhindi/17/AU900.pdf',\n",
       "  'date': '07.02.2019',\n",
       "  'ministry': 'NEW AND RENEWABLE ENERGY',\n",
       "  'members': ['Nete Shri Ashok Mahadeorao'],\n",
       "  'subject': 'Rooftop Solar Power Schemes',\n",
       "  'link': 'http://164.100.47.194/Loksabha/Questions/QResult15.aspx?qref=79029&lsno=16',\n",
       "  'meta': {'current_page': 5,\n",
       "   'total_pages': 7806,\n",
       "   'page_url': 'http://164.100.47.194/Loksabha/Questions/Qtextsearch.aspx/',\n",
       "   'fetched_on': '2019-02-07 22:42:21.449119'},\n",
       "  'qref': '79029',\n",
       "  'text': '(a)whether the Government has formulated any scheme and fixed any funds to promote the installation of Rooftop Solar Power Systems and use the energy produced by it only for domestic needs both in rural as well as urban areas;(b) if so, the details thereof; and(c) if not, the reasons therefor?\\r\\n                                                \\n\\n\\n\\n\\n\\nANSWER\\n\\n\\n\\n\\r\\n                                                        THE MINISTER OF STATE FOR NEW & RENEWABLE ENERGY AND POWER (I/C)(SHRI R. K. SINGH)(a) to (c) The Ministry of New & Renewable Energy is implementing Grid Connected Rooftop and Small Solar Power Plants Programme, wherein an aggregated capacity of 2100 MW was targeted to be achieved in residential, institutional, social and Government sector through central financial assistance (CFA) of Rs. 5000 crore by the year 2019-20.Under the Programme, CFA is being provided for installation of rooftop solar PV plants in residential sector for both urban and rural areas. The CFA is upto 30% of the cost arrived through tender process or the benchmark cost prescribed by MNRE, whichever is less, in case of general category states/UTs and upto 70% in case of special category states/UTs. *****',\n",
       "  'question': '(a)whether the Government has formulated any scheme and fixed any funds to promote the installation of Rooftop Solar Power Systems and use the energy produced by it only for domestic needs both in rural as well as urban areas;(b) if so, the details thereof; and(c) if not, the reasons therefor?',\n",
       "  'answer': 'THE MINISTER OF STATE FOR NEW & RENEWABLE ENERGY AND POWER (I/C)(SHRI R. K. SINGH)(a) to (c) The Ministry of New & Renewable Energy is implementing Grid Connected Rooftop and Small Solar Power Plants Programme, wherein an aggregated capacity of 2100 MW was targeted to be achieved in residential, institutional, social and Government sector through central financial assistance (CFA) of Rs. 5000 crore by the year 2019-20.Under the Programme, CFA is being provided for installation of rooftop solar PV plants in residential sector for both urban and rural areas. The CFA is upto 30% of the cost arrived through tender process or the benchmark cost prescribed by MNRE, whichever is less, in case of general category states/UTs and upto 70% in case of special category states/UTs. *****'}]"
      ]
     },
     "execution_count": 204,
     "metadata": {},
     "output_type": "execute_result"
    }
   ],
   "source": [
    "questions"
   ]
  },
  {
   "cell_type": "code",
   "execution_count": 192,
   "metadata": {},
   "outputs": [],
   "source": [
    "answer = questions[4]['text'].split(\"ANSWER\")[1].strip('\\n\\r ')"
   ]
  },
  {
   "cell_type": "code",
   "execution_count": 197,
   "metadata": {},
   "outputs": [
    {
     "data": {
      "text/plain": [
       "'THE MINISTER OF STATE (INDEPENDENT CHARGE) IN THE MINISTRY OF INFORMATION AND BROADCASTING (COL RAJYAVARDHAN RATHORE (Retd.)):'"
      ]
     },
     "execution_count": 197,
     "metadata": {},
     "output_type": "execute_result"
    }
   ],
   "source": [
    "answer[:answer.find('(a)')].replace('[','(').replace(']',')')"
   ]
  },
  {
   "cell_type": "code",
   "execution_count": 198,
   "metadata": {},
   "outputs": [
    {
     "data": {
      "text/plain": [
       "'THE MINISTER OF STATE (INDEPENDENT CHARGE) IN THE MINISTRY OF INFORMATION AND BROADCASTING [COL RAJYAVARDHAN RATHORE (Retd.)]:(a):\\tYes Madam. In order to curb piracy of films, the Government has finalized to introduce a Cinematograph Amendment Bill, 2019 to impose strict penalties against unauthorized duplication of films.(b) & (c):\\tNo Madam. The Central Board of Film Certification (CBFC) has been given adequate independence to performs the statutory function of certifying films for public exhibition.  The functioning of the Board is well laid out under the Cinematograph Act and Rules and the Board alone takes it decision within its jurisdiction.  The persons appointed as Members are eminent personalities from different spheres like education, arts, film, social sciences, law, etc. in accordance with Section 3(1) of the Cinematograph Act, 1952 read with rule 3 of the Cinematograph (Certification) Rules, 1983.(d):\\tIn accordance with the established  Rules and Procedure defined under Cinematograph Act, 1952 read along with the Cinematograph (Certification) Rules, 1983 and the Central Government guidelines of 1991, CBFC  issues certification under categories U, UA, A and S, as applicable.  CBFC has imposed cuts under Section 5B of the Cinematograph Act in respect of total of 4815 films [1215 (U); 3009 (UA); 590 (A) and 01 (S)] during 1st April, 2017 to 31st December, 2018.*****'"
      ]
     },
     "execution_count": 198,
     "metadata": {},
     "output_type": "execute_result"
    }
   ],
   "source": [
    "answer"
   ]
  },
  {
   "cell_type": "code",
   "execution_count": null,
   "metadata": {},
   "outputs": [],
   "source": []
  },
  {
   "cell_type": "code",
   "execution_count": 176,
   "metadata": {},
   "outputs": [
    {
     "name": "stdout",
     "output_type": "stream",
     "text": [
      "0\n",
      "1\n",
      "2\n",
      "3\n",
      "4\n"
     ]
    },
    {
     "ename": "IndexError",
     "evalue": "list index out of range",
     "output_type": "error",
     "traceback": [
      "\u001b[1;31m---------------------------------------------------------------------------\u001b[0m",
      "\u001b[1;31mIndexError\u001b[0m                                Traceback (most recent call last)",
      "\u001b[1;32m<ipython-input-176-2b37b8f999c6>\u001b[0m in \u001b[0;36m<module>\u001b[1;34m\u001b[0m\n\u001b[0;32m      1\u001b[0m \u001b[1;32mfor\u001b[0m \u001b[0mi\u001b[0m \u001b[1;32min\u001b[0m \u001b[0mrange\u001b[0m\u001b[1;33m(\u001b[0m\u001b[0mlen\u001b[0m\u001b[1;33m(\u001b[0m\u001b[0mquestions\u001b[0m\u001b[1;33m)\u001b[0m\u001b[1;33m)\u001b[0m\u001b[1;33m:\u001b[0m\u001b[1;33m\u001b[0m\u001b[0m\n\u001b[0;32m      2\u001b[0m     \u001b[0mprint\u001b[0m\u001b[1;33m(\u001b[0m\u001b[0mi\u001b[0m\u001b[1;33m)\u001b[0m\u001b[1;33m\u001b[0m\u001b[0m\n\u001b[1;32m----> 3\u001b[1;33m     \u001b[0mminister_string\u001b[0m \u001b[1;33m=\u001b[0m \u001b[0mre\u001b[0m\u001b[1;33m.\u001b[0m\u001b[0mfindall\u001b[0m\u001b[1;33m(\u001b[0m\u001b[1;34m\"((Ministry|Minister)[\\w\\s\\(\\)\\&//\\,]*(\\{|\\[|\\()[\\w\\s\\.\\)\\()]*(\\}|\\)|\\])\\s*\\(a\\))\"\u001b[0m\u001b[1;33m,\u001b[0m\u001b[0mquestions\u001b[0m\u001b[1;33m[\u001b[0m\u001b[0mi\u001b[0m\u001b[1;33m]\u001b[0m\u001b[1;33m[\u001b[0m\u001b[1;34m'text'\u001b[0m\u001b[1;33m]\u001b[0m\u001b[1;33m,\u001b[0m\u001b[0mre\u001b[0m\u001b[1;33m.\u001b[0m\u001b[0mIGNORECASE\u001b[0m\u001b[1;33m)\u001b[0m\u001b[1;33m[\u001b[0m\u001b[1;36m0\u001b[0m\u001b[1;33m]\u001b[0m\u001b[1;33m[\u001b[0m\u001b[1;36m0\u001b[0m\u001b[1;33m]\u001b[0m\u001b[1;33m\u001b[0m\u001b[0m\n\u001b[0m\u001b[0;32m      4\u001b[0m     \u001b[0mminister\u001b[0m \u001b[1;33m=\u001b[0m \u001b[0mre\u001b[0m\u001b[1;33m.\u001b[0m\u001b[0mfindall\u001b[0m\u001b[1;33m(\u001b[0m\u001b[1;34m\"\\([\\w\\s'.']*\\)\\(a\\)\"\u001b[0m\u001b[1;33m,\u001b[0m\u001b[0mminister_string\u001b[0m\u001b[1;33m)\u001b[0m\u001b[1;33m[\u001b[0m\u001b[1;36m0\u001b[0m\u001b[1;33m]\u001b[0m\u001b[1;33m.\u001b[0m\u001b[0msplit\u001b[0m\u001b[1;33m(\u001b[0m\u001b[1;34m'(a)'\u001b[0m\u001b[1;33m)\u001b[0m\u001b[1;33m[\u001b[0m\u001b[1;36m0\u001b[0m\u001b[1;33m]\u001b[0m\u001b[1;33m[\u001b[0m\u001b[1;36m1\u001b[0m\u001b[1;33m:\u001b[0m\u001b[1;33m-\u001b[0m\u001b[1;36m1\u001b[0m\u001b[1;33m]\u001b[0m\u001b[1;33m.\u001b[0m\u001b[0mstrip\u001b[0m\u001b[1;33m(\u001b[0m\u001b[1;33m)\u001b[0m\u001b[1;33m\u001b[0m\u001b[0m\n\u001b[0;32m      5\u001b[0m     \u001b[0mquestions\u001b[0m\u001b[1;33m[\u001b[0m\u001b[0mi\u001b[0m\u001b[1;33m]\u001b[0m\u001b[1;33m[\u001b[0m\u001b[1;34m\"minister\"\u001b[0m\u001b[1;33m]\u001b[0m \u001b[1;33m=\u001b[0m \u001b[0mminister\u001b[0m\u001b[1;33m\u001b[0m\u001b[0m\n",
      "\u001b[1;31mIndexError\u001b[0m: list index out of range"
     ]
    }
   ],
   "source": [
    "for i in range(len(questions)):\n",
    "    print(i)\n",
    "    minister_string = re.findall(\"((Ministry|Minister)[\\w\\s\\(\\)\\&//\\,]*(\\{|\\[|\\()[\\w\\s\\.\\)\\()]*(\\}|\\)|\\])\\s*\\(a\\))\",questions[i]['text'],re.IGNORECASE)[0][0]\n",
    "    minister = re.findall(\"\\([\\w\\s'.']*\\)\\(a\\)\",minister_string)[0].split('(a)')[0][1:-1].strip()\n",
    "    questions[i][\"minister\"] = minister"
   ]
  },
  {
   "cell_type": "code",
   "execution_count": 181,
   "metadata": {},
   "outputs": [],
   "source": [
    "minister_string = re.findall(\"((Ministry|Minister)[\\w\\s\\(\\)\\&//\\,]*(\\{|\\[|\\()[\\w\\s\\.\\)\\()]*(\\}|\\)|\\])\\s*\\(a\\))\",questions[4]['text'],re.IGNORECASE)"
   ]
  },
  {
   "cell_type": "code",
   "execution_count": 183,
   "metadata": {},
   "outputs": [
    {
     "data": {
      "text/plain": [
       "'(a)\\twhether the Government proposes to amend the Cinematography Act, 1952 in any way and if so, the details thereof;(b)\\twhether the Central Board of Film Certification (CBFC) formed under the Act is devoid of independence especially with regards to the CBFC members being appointed by the Government;(c)\\tif so, the details thereof; and (d)\\tthe number of films which have received cuts by the CBFC under Section 5B of the Act?\\n\\n\\n\\n\\n\\n\\nANSWER\\n\\n\\n\\n\\r\\n                                                        THE MINISTER OF STATE (INDEPENDENT CHARGE) IN THE MINISTRY OF INFORMATION AND BROADCASTING [COL RAJYAVARDHAN RATHORE (Retd.)]:(a):\\tYes Madam. In order to curb piracy of films, the Government has finalized to introduce a Cinematograph Amendment Bill, 2019 to impose strict penalties against unauthorized duplication of films.(b) & (c):\\tNo Madam. The Central Board of Film Certification (CBFC) has been given adequate independence to performs the statutory function of certifying films for public exhibition.  The functioning of the Board is well laid out under the Cinematograph Act and Rules and the Board alone takes it decision within its jurisdiction.  The persons appointed as Members are eminent personalities from different spheres like education, arts, film, social sciences, law, etc. in accordance with Section 3(1) of the Cinematograph Act, 1952 read with rule 3 of the Cinematograph (Certification) Rules, 1983.(d):\\tIn accordance with the established  Rules and Procedure defined under Cinematograph Act, 1952 read along with the Cinematograph (Certification) Rules, 1983 and the Central Government guidelines of 1991, CBFC  issues certification under categories U, UA, A and S, as applicable.  CBFC has imposed cuts under Section 5B of the Cinematograph Act in respect of total of 4815 films [1215 (U); 3009 (UA); 590 (A) and 01 (S)] during 1st April, 2017 to 31st December, 2018.*****'"
      ]
     },
     "execution_count": 183,
     "metadata": {},
     "output_type": "execute_result"
    }
   ],
   "source": [
    "questions[4]['text']"
   ]
  },
  {
   "cell_type": "code",
   "execution_count": null,
   "metadata": {},
   "outputs": [],
   "source": []
  },
  {
   "cell_type": "code",
   "execution_count": 177,
   "metadata": {},
   "outputs": [
    {
     "data": {
      "text/plain": [
       "{'_id': ObjectId('5c5c66f88a2fae18d4c18415'),\n",
       " 'question_number': '896',\n",
       " 'question_type': 'UNSTARRED',\n",
       " 'english_pdf': 'http://164.100.47.190/loksabhaquestions/annex/17/AU896.pdf',\n",
       " 'hindi_pdf': 'http://164.100.47.190/loksabhaquestions/qhindi/17/AU896.pdf',\n",
       " 'date': '07.02.2019',\n",
       " 'ministry': 'INFORMATION AND BROADCASTING',\n",
       " 'members': ['Singh Shri Ravneet'],\n",
       " 'subject': 'Central Board of Film Certification',\n",
       " 'link': 'http://164.100.47.194/Loksabha/Questions/QResult15.aspx?qref=79015&lsno=16',\n",
       " 'meta': {'current_page': 5,\n",
       "  'total_pages': 7806,\n",
       "  'page_url': 'http://164.100.47.194/Loksabha/Questions/Qtextsearch.aspx/',\n",
       "  'fetched_on': '2019-02-07 22:42:24.268305'},\n",
       " 'qref': '79015',\n",
       " 'text': '(a)\\twhether the Government proposes to amend the Cinematography Act, 1952 in any way and if so, the details thereof;(b)\\twhether the Central Board of Film Certification (CBFC) formed under the Act is devoid of independence especially with regards to the CBFC members being appointed by the Government;(c)\\tif so, the details thereof; and (d)\\tthe number of films which have received cuts by the CBFC under Section 5B of the Act?\\n\\n\\n\\n\\n\\n\\nANSWER\\n\\n\\n\\n\\r\\n                                                        THE MINISTER OF STATE (INDEPENDENT CHARGE) IN THE MINISTRY OF INFORMATION AND BROADCASTING [COL RAJYAVARDHAN RATHORE (Retd.)]:(a):\\tYes Madam. In order to curb piracy of films, the Government has finalized to introduce a Cinematograph Amendment Bill, 2019 to impose strict penalties against unauthorized duplication of films.(b) & (c):\\tNo Madam. The Central Board of Film Certification (CBFC) has been given adequate independence to performs the statutory function of certifying films for public exhibition.  The functioning of the Board is well laid out under the Cinematograph Act and Rules and the Board alone takes it decision within its jurisdiction.  The persons appointed as Members are eminent personalities from different spheres like education, arts, film, social sciences, law, etc. in accordance with Section 3(1) of the Cinematograph Act, 1952 read with rule 3 of the Cinematograph (Certification) Rules, 1983.(d):\\tIn accordance with the established  Rules and Procedure defined under Cinematograph Act, 1952 read along with the Cinematograph (Certification) Rules, 1983 and the Central Government guidelines of 1991, CBFC  issues certification under categories U, UA, A and S, as applicable.  CBFC has imposed cuts under Section 5B of the Cinematograph Act in respect of total of 4815 films [1215 (U); 3009 (UA); 590 (A) and 01 (S)] during 1st April, 2017 to 31st December, 2018.*****'}"
      ]
     },
     "execution_count": 177,
     "metadata": {},
     "output_type": "execute_result"
    }
   ],
   "source": [
    "questions[4]"
   ]
  },
  {
   "cell_type": "code",
   "execution_count": null,
   "metadata": {},
   "outputs": [],
   "source": [
    "for i in range(len(questions)):\n",
    "    print(i, re.findall(\"((Ministry|Minister)[\\w\\s\\(\\)\\&//\\,]*(\\{|\\[|\\()[\\w\\s\\.\\)\\()]*(\\}|\\)|\\])\\s*\\(a\\))\",texts[i],re.IGNORECASE))"
   ]
  }
 ],
 "metadata": {
  "kernelspec": {
   "display_name": "Python 3",
   "language": "python",
   "name": "python3"
  },
  "language_info": {
   "codemirror_mode": {
    "name": "ipython",
    "version": 3
   },
   "file_extension": ".py",
   "mimetype": "text/x-python",
   "name": "python",
   "nbconvert_exporter": "python",
   "pygments_lexer": "ipython3",
   "version": "3.6.4"
  }
 },
 "nbformat": 4,
 "nbformat_minor": 2
}
