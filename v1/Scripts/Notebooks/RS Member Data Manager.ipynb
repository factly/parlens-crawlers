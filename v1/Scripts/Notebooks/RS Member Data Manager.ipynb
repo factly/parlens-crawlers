{
 "cells": [
  {
   "cell_type": "code",
   "execution_count": 1,
   "metadata": {},
   "outputs": [],
   "source": [
    "import pandas as pd\n",
    "import pymongo\n",
    "import json\n",
    "import numpy as np"
   ]
  },
  {
   "cell_type": "code",
   "execution_count": 18,
   "metadata": {},
   "outputs": [],
   "source": [
    "data = pd.read_excel(\"../../Resources/rs_mp_track.xlsx\")\n",
    "data[\"Constituency\"] = \"Not Applicable\"\n",
    "data[\"State\"] = \"Not Applicable\"\n",
    "data.fillna(\"Not Available\")\n",
    "data[\"ID\"] = \"rs_\"+data[\"ID\"]\n",
    "# data[\"Session\"] = \"16\"\n",
    "# data[\"Minister\"] = False"
   ]
  },
  {
   "cell_type": "code",
   "execution_count": 5,
   "metadata": {},
   "outputs": [],
   "source": [
    "# data.loc[pd.isna(data[\"Attendance\"]),\"Minister\"] = True"
   ]
  },
  {
   "cell_type": "code",
   "execution_count": 43,
   "metadata": {},
   "outputs": [],
   "source": [
    "config_file = open(\"../../Parliament/parliament/config.json\")\n",
    "config = json.load(config_file)\n",
    "client = pymongo.MongoClient(config[\"mongo_server\"])\n",
    "db = client[config[\"mongo_database\"]]\n",
    "collection = db[\"rs_members\"]"
   ]
  },
  {
   "cell_type": "code",
   "execution_count": 42,
   "metadata": {},
   "outputs": [],
   "source": [
    "reformatted_data = []\n",
    "for i,row in data.iterrows():\n",
    "    reformatted_data.append(json.loads(row.to_json()))\n",
    "    reformatted_data[i][\"ID\"] = \"rs_\"+str(reformatted_data[i][\"ID\"])"
   ]
  },
  {
   "cell_type": "code",
   "execution_count": 36,
   "metadata": {},
   "outputs": [
    {
     "data": {
      "text/plain": [
       "<pymongo.results.InsertManyResult at 0x1bb4c551a88>"
      ]
     },
     "execution_count": 36,
     "metadata": {},
     "output_type": "execute_result"
    }
   ],
   "source": [
    "# collection.insert_many(reformatted_data)"
   ]
  },
  {
   "cell_type": "code",
   "execution_count": 45,
   "metadata": {},
   "outputs": [],
   "source": [
    "json.dump(reformatted_data,open(\"../../Resources/rs_member_list.json\",\"w\"))"
   ]
  }
 ],
 "metadata": {
  "kernelspec": {
   "display_name": "Python 3",
   "language": "python",
   "name": "python3"
  },
  "language_info": {
   "codemirror_mode": {
    "name": "ipython",
    "version": 3
   },
   "file_extension": ".py",
   "mimetype": "text/x-python",
   "name": "python",
   "nbconvert_exporter": "python",
   "pygments_lexer": "ipython3",
   "version": "3.6.7"
  }
 },
 "nbformat": 4,
 "nbformat_minor": 2
}
